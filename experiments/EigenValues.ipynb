{
 "cells": [
  {
   "cell_type": "code",
   "execution_count": 1,
   "id": "fdbb7824",
   "metadata": {
    "ExecuteTime": {
     "end_time": "2021-05-06T19:08:59.848418Z",
     "start_time": "2021-05-06T19:08:57.418947Z"
    },
    "scrolled": true
   },
   "outputs": [
    {
     "data": {
      "application/vnd.jupyter.widget-view+json": {
       "model_id": "184a926497874daf9b6356daf8ff7dd4",
       "version_major": 2,
       "version_minor": 0
      },
      "text/plain": [
       "Checking correctness:   0%|          | 0/10 [00:00<?, ?it/s]"
      ]
     },
     "metadata": {},
     "output_type": "display_data"
    },
    {
     "data": {
      "text/plain": [
       "[0.00043614168039538703,\n",
       " 0.00046201070840197673,\n",
       " 0.00044493196046128535,\n",
       " 0.000409228006589786,\n",
       " 0.00041123706754530486,\n",
       " 0.00041419373970345976,\n",
       " 0.00042207808896210824]"
      ]
     },
     "execution_count": 1,
     "metadata": {},
     "output_type": "execute_result"
    }
   ],
   "source": [
    "import numpy as np\n",
    "import timeit\n",
    "from tqdm.auto import tqdm\n",
    "import pandas as pd\n",
    "\n",
    "def check_correctness(eigvals_func, A, rtol=1e-2, atol=1e-3):\n",
    "    assert np.allclose(sorted(np.linalg.eigvals(A)), sorted(eigvals_func(A)), rtol=rtol, atol=atol)\n",
    "\n",
    "def make_experiment(eigvals_func, N=50, random_seed=0, correctness_tests=10, rtol=1e-2, atol=1e-3, estimated_time=10, retries=7, filename=None):\n",
    "    np.random.seed(random_seed)\n",
    "    for _ in tqdm(range(correctness_tests), desc=\"Checking correctness\"):\n",
    "        A = np.random.randn(N, N)\n",
    "        A = A.dot(A.T)\n",
    "        check_correctness(eigvals_func, A, rtol=rtol, atol=atol)\n",
    "        \n",
    "    if filename is not None:\n",
    "        with open(filename, \"w\") as f:\n",
    "            f.write(str(N) + \"\\n\")\n",
    "            f.write(\"\\n\".join([\" \".join(x) for x in A.astype(str)]))\n",
    "        print(np.linalg.eigvals(A))\n",
    "    \n",
    "    variables = {'eigvals_func': eigvals_func, 'A': A}\n",
    "    single_execution = timeit.timeit(stmt=\"eigvals_func(A)\", globals=variables, number=1)\n",
    "    number = max(int(np.floor(estimated_time / single_execution / retries)), 1)\n",
    "    times = [\n",
    "        timeit.timeit(stmt=\"eigvals_func(A)\", globals=variables, number=number) / number for _ in range(retries)\n",
    "    ]\n",
    "    return times\n",
    "\n",
    "make_experiment(np.linalg.eigvals)"
   ]
  },
  {
   "cell_type": "code",
   "execution_count": 2,
   "id": "02309f90",
   "metadata": {
    "ExecuteTime": {
     "end_time": "2021-05-06T19:09:07.620773Z",
     "start_time": "2021-05-06T19:08:59.850416Z"
    }
   },
   "outputs": [
    {
     "data": {
      "application/vnd.jupyter.widget-view+json": {
       "model_id": "be8ecd300ae24f0caa3e2be4775c6058",
       "version_major": 2,
       "version_minor": 0
      },
      "text/plain": [
       "Checking correctness:   0%|          | 0/10 [00:00<?, ?it/s]"
      ]
     },
     "metadata": {},
     "output_type": "display_data"
    },
    {
     "name": "stdout",
     "output_type": "stream",
     "text": [
      "[12.54370076  0.06099317  0.32840781  3.21488977  5.07253904]\n"
     ]
    },
    {
     "data": {
      "application/vnd.jupyter.widget-view+json": {
       "model_id": "2f5b1632705247be9b13afd6c170033a",
       "version_major": 2,
       "version_minor": 0
      },
      "text/plain": [
       "Checking correctness:   0%|          | 0/10 [00:00<?, ?it/s]"
      ]
     },
     "metadata": {},
     "output_type": "display_data"
    },
    {
     "name": "stdout",
     "output_type": "stream",
     "text": [
      "[2.97847028e+01 2.55945678e+01 1.37579164e+01 1.11960774e+01\n",
      " 5.88960347e+00 2.19202482e+00 1.54674224e+00 1.84117622e-03\n",
      " 7.39450784e-01 3.73343632e-01]\n"
     ]
    },
    {
     "data": {
      "application/vnd.jupyter.widget-view+json": {
       "model_id": "21d7daf25d8b40c1b06fc933cb4b0c7d",
       "version_major": 2,
       "version_minor": 0
      },
      "text/plain": [
       "Checking correctness:   0%|          | 0/10 [00:00<?, ?it/s]"
      ]
     },
     "metadata": {},
     "output_type": "display_data"
    },
    {
     "name": "stdout",
     "output_type": "stream",
     "text": [
      "[6.99504080e+01 5.71218104e+01 5.01343988e+01 4.39782802e+01\n",
      " 3.43578606e+01 2.71136949e+01 2.32625098e+01 2.24567992e+01\n",
      " 1.97565829e+01 1.48161388e+01 1.21261429e+01 9.70567691e+00\n",
      " 5.87529903e+00 4.56643720e+00 3.88947088e+00 2.57224921e+00\n",
      " 1.37133941e+00 5.49187593e-01 7.70077440e-02 4.16234682e-02]\n"
     ]
    },
    {
     "data": {
      "application/vnd.jupyter.widget-view+json": {
       "model_id": "ff5f15c16e28457388281dbc4df4279e",
       "version_major": 2,
       "version_minor": 0
      },
      "text/plain": [
       "Checking correctness:   0%|          | 0/10 [00:00<?, ?it/s]"
      ]
     },
     "metadata": {},
     "output_type": "display_data"
    },
    {
     "name": "stdout",
     "output_type": "stream",
     "text": [
      "[9.00460824e+01 8.27476579e+01 7.81224383e+01 7.39693968e+01\n",
      " 6.28985299e+01 5.46269232e+01 4.92271427e+01 4.73391856e+01\n",
      " 4.61217258e+01 4.03773218e+01 3.22137523e+01 2.59248721e+01\n",
      " 2.25558693e+01 2.14285986e+01 2.09775713e+01 1.90401177e+01\n",
      " 1.78124993e+01 1.32351666e+01 1.05517238e+01 7.81905311e+00\n",
      " 6.61877244e+00 3.84891455e+00 3.60692696e+00 2.69805863e+00\n",
      " 5.42076630e-03 1.82603331e-01 2.47518564e-01 4.75412204e-01\n",
      " 1.55740898e+00 1.12830437e+00]\n"
     ]
    },
    {
     "data": {
      "application/vnd.jupyter.widget-view+json": {
       "model_id": "040b9e0ebfff4ba2a17ebbeaaa6834fa",
       "version_major": 2,
       "version_minor": 0
      },
      "text/plain": [
       "Checking correctness:   0%|          | 0/10 [00:00<?, ?it/s]"
      ]
     },
     "metadata": {},
     "output_type": "display_data"
    },
    {
     "name": "stdout",
     "output_type": "stream",
     "text": [
      "[1.39505693e+02 1.29782902e+02 1.07723769e+02 1.01323385e+02\n",
      " 9.39111570e+01 8.56867569e+01 8.34660922e+01 7.80819178e+01\n",
      " 7.00444239e+01 6.73257195e+01 5.86781762e+01 5.57201769e+01\n",
      " 5.08377973e+01 4.78292344e+01 4.04295317e+01 3.73349174e+01\n",
      " 3.56916216e+01 3.05912314e+01 2.83411950e+01 2.68548104e+01\n",
      " 2.42034999e+01 2.21140187e+01 1.75930173e+01 1.49803437e+01\n",
      " 1.37050212e+01 1.29064367e+01 9.98977672e+00 8.74418203e+00\n",
      " 8.54349624e+00 6.22833462e+00 7.79032211e-03 3.34812420e-02\n",
      " 5.61947750e-01 6.25508292e-01 1.67596452e+00 1.70278859e+00\n",
      " 2.20408178e+00 3.33625130e+00 4.26344360e+00 4.04474026e+00]\n"
     ]
    },
    {
     "data": {
      "application/vnd.jupyter.widget-view+json": {
       "model_id": "4e7ab272ab3b4c0fbf526654d08d5475",
       "version_major": 2,
       "version_minor": 0
      },
      "text/plain": [
       "Checking correctness:   0%|          | 0/10 [00:00<?, ?it/s]"
      ]
     },
     "metadata": {},
     "output_type": "display_data"
    },
    {
     "name": "stdout",
     "output_type": "stream",
     "text": [
      "[2.08252232e+02 1.55036102e+02 1.51338704e+02 1.41693546e+02\n",
      " 1.29723433e+02 1.16960667e+02 1.09974861e+02 1.01554156e+02\n",
      " 1.00024539e+02 9.36810806e+01 9.12094337e+01 8.42505433e+01\n",
      " 7.93069758e+01 7.53863463e+01 7.15386760e+01 6.84279459e+01\n",
      " 6.86474914e+01 6.04217118e+01 5.00497457e+01 4.50241044e+01\n",
      " 4.14457589e+01 3.81686158e+01 3.70437798e+01 3.43566358e+01\n",
      " 3.16173522e+01 2.87320306e+01 2.53558473e+01 2.34377743e+01\n",
      " 2.17943900e+01 1.98630919e+01 1.81079680e+01 1.73999698e+01\n",
      " 1.56298249e+01 1.38775208e+01 1.20729259e+01 1.10012452e+01\n",
      " 1.00839567e+01 8.07696803e+00 7.02445458e+00 5.95344559e+00\n",
      " 5.65431829e+00 4.36454810e+00 3.24870662e+00 2.76939994e+00\n",
      " 1.68527895e+00 9.05838023e-01 3.25387479e-03 4.19591503e-02\n",
      " 1.39336256e-01 4.01936385e-01]\n"
     ]
    }
   ],
   "source": [
    "n_values = [5, 10, 20, 30, 40, 50]\n",
    "results = []\n",
    "\n",
    "for n in n_values:\n",
    "    make_experiment(np.linalg.eigvals, N=n, filename=f\"{n}.txt\")"
   ]
  },
  {
   "cell_type": "markdown",
   "id": "f9245e20",
   "metadata": {},
   "source": [
    "## Базовая имплементация на Numpy"
   ]
  },
  {
   "cell_type": "code",
   "execution_count": 3,
   "id": "81cf2080",
   "metadata": {
    "ExecuteTime": {
     "end_time": "2021-05-06T19:09:23.467710Z",
     "start_time": "2021-05-06T19:09:07.622774Z"
    }
   },
   "outputs": [
    {
     "data": {
      "application/vnd.jupyter.widget-view+json": {
       "model_id": "e934432f6be247648aa29e7b5bcd1985",
       "version_major": 2,
       "version_minor": 0
      },
      "text/plain": [
       "Checking correctness:   0%|          | 0/10 [00:00<?, ?it/s]"
      ]
     },
     "metadata": {},
     "output_type": "display_data"
    },
    {
     "data": {
      "application/vnd.jupyter.widget-view+json": {
       "model_id": "ee77375b29d24df0a7545cfe80b91922",
       "version_major": 2,
       "version_minor": 0
      },
      "text/plain": [
       "Checking correctness:   0%|          | 0/10 [00:00<?, ?it/s]"
      ]
     },
     "metadata": {},
     "output_type": "display_data"
    },
    {
     "data": {
      "application/vnd.jupyter.widget-view+json": {
       "model_id": "22ca18b18874473f800c6d51b74a5823",
       "version_major": 2,
       "version_minor": 0
      },
      "text/plain": [
       "Checking correctness:   0%|          | 0/10 [00:00<?, ?it/s]"
      ]
     },
     "metadata": {},
     "output_type": "display_data"
    },
    {
     "data": {
      "application/vnd.jupyter.widget-view+json": {
       "model_id": "798a7803531b4ee5802e1a7109528ac0",
       "version_major": 2,
       "version_minor": 0
      },
      "text/plain": [
       "Checking correctness:   0%|          | 0/10 [00:00<?, ?it/s]"
      ]
     },
     "metadata": {},
     "output_type": "display_data"
    },
    {
     "data": {
      "application/vnd.jupyter.widget-view+json": {
       "model_id": "10afce0b03794d66a0daffaf220dd63b",
       "version_major": 2,
       "version_minor": 0
      },
      "text/plain": [
       "Checking correctness:   0%|          | 0/10 [00:00<?, ?it/s]"
      ]
     },
     "metadata": {},
     "output_type": "display_data"
    },
    {
     "data": {
      "application/vnd.jupyter.widget-view+json": {
       "model_id": "3d2e0c0d6356436e82b6c51f4717031c",
       "version_major": 2,
       "version_minor": 0
      },
      "text/plain": [
       "Checking correctness:   0%|          | 0/10 [00:00<?, ?it/s]"
      ]
     },
     "metadata": {},
     "output_type": "display_data"
    },
    {
     "ename": "KeyboardInterrupt",
     "evalue": "",
     "output_type": "error",
     "traceback": [
      "\u001b[1;31m---------------------------------------------------------------------------\u001b[0m",
      "\u001b[1;31mKeyboardInterrupt\u001b[0m                         Traceback (most recent call last)",
      "\u001b[1;32m<ipython-input-3-e638c888ae0b>\u001b[0m in \u001b[0;36m<module>\u001b[1;34m\u001b[0m\n\u001b[0;32m     17\u001b[0m \u001b[1;33m\u001b[0m\u001b[0m\n\u001b[0;32m     18\u001b[0m \u001b[1;32mfor\u001b[0m \u001b[0mn\u001b[0m \u001b[1;32min\u001b[0m \u001b[0mn_values\u001b[0m\u001b[1;33m:\u001b[0m\u001b[1;33m\u001b[0m\u001b[1;33m\u001b[0m\u001b[0m\n\u001b[1;32m---> 19\u001b[1;33m     \u001b[0mresult\u001b[0m \u001b[1;33m=\u001b[0m \u001b[0mmake_experiment\u001b[0m\u001b[1;33m(\u001b[0m\u001b[0meigenvalues\u001b[0m\u001b[1;33m,\u001b[0m \u001b[0mN\u001b[0m\u001b[1;33m=\u001b[0m\u001b[0mn\u001b[0m\u001b[1;33m)\u001b[0m\u001b[1;33m\u001b[0m\u001b[1;33m\u001b[0m\u001b[0m\n\u001b[0m\u001b[0;32m     20\u001b[0m     \u001b[0mresults\u001b[0m\u001b[1;33m.\u001b[0m\u001b[0mappend\u001b[0m\u001b[1;33m(\u001b[0m\u001b[0mresult\u001b[0m\u001b[1;33m)\u001b[0m\u001b[1;33m\u001b[0m\u001b[1;33m\u001b[0m\u001b[0m\n",
      "\u001b[1;32m<ipython-input-1-01db6ac227f1>\u001b[0m in \u001b[0;36mmake_experiment\u001b[1;34m(eigvals_func, N, random_seed, correctness_tests, rtol, atol, estimated_time, retries, filename)\u001b[0m\n\u001b[0;32m     23\u001b[0m     \u001b[0msingle_execution\u001b[0m \u001b[1;33m=\u001b[0m \u001b[0mtimeit\u001b[0m\u001b[1;33m.\u001b[0m\u001b[0mtimeit\u001b[0m\u001b[1;33m(\u001b[0m\u001b[0mstmt\u001b[0m\u001b[1;33m=\u001b[0m\u001b[1;34m\"eigvals_func(A)\"\u001b[0m\u001b[1;33m,\u001b[0m \u001b[0mglobals\u001b[0m\u001b[1;33m=\u001b[0m\u001b[0mvariables\u001b[0m\u001b[1;33m,\u001b[0m \u001b[0mnumber\u001b[0m\u001b[1;33m=\u001b[0m\u001b[1;36m1\u001b[0m\u001b[1;33m)\u001b[0m\u001b[1;33m\u001b[0m\u001b[1;33m\u001b[0m\u001b[0m\n\u001b[0;32m     24\u001b[0m     \u001b[0mnumber\u001b[0m \u001b[1;33m=\u001b[0m \u001b[0mmax\u001b[0m\u001b[1;33m(\u001b[0m\u001b[0mint\u001b[0m\u001b[1;33m(\u001b[0m\u001b[0mnp\u001b[0m\u001b[1;33m.\u001b[0m\u001b[0mfloor\u001b[0m\u001b[1;33m(\u001b[0m\u001b[0mestimated_time\u001b[0m \u001b[1;33m/\u001b[0m \u001b[0msingle_execution\u001b[0m \u001b[1;33m/\u001b[0m \u001b[0mretries\u001b[0m\u001b[1;33m)\u001b[0m\u001b[1;33m)\u001b[0m\u001b[1;33m,\u001b[0m \u001b[1;36m1\u001b[0m\u001b[1;33m)\u001b[0m\u001b[1;33m\u001b[0m\u001b[1;33m\u001b[0m\u001b[0m\n\u001b[1;32m---> 25\u001b[1;33m     times = [\n\u001b[0m\u001b[0;32m     26\u001b[0m         \u001b[0mtimeit\u001b[0m\u001b[1;33m.\u001b[0m\u001b[0mtimeit\u001b[0m\u001b[1;33m(\u001b[0m\u001b[0mstmt\u001b[0m\u001b[1;33m=\u001b[0m\u001b[1;34m\"eigvals_func(A)\"\u001b[0m\u001b[1;33m,\u001b[0m \u001b[0mglobals\u001b[0m\u001b[1;33m=\u001b[0m\u001b[0mvariables\u001b[0m\u001b[1;33m,\u001b[0m \u001b[0mnumber\u001b[0m\u001b[1;33m=\u001b[0m\u001b[0mnumber\u001b[0m\u001b[1;33m)\u001b[0m \u001b[1;33m/\u001b[0m \u001b[0mnumber\u001b[0m \u001b[1;32mfor\u001b[0m \u001b[0m_\u001b[0m \u001b[1;32min\u001b[0m \u001b[0mrange\u001b[0m\u001b[1;33m(\u001b[0m\u001b[0mretries\u001b[0m\u001b[1;33m)\u001b[0m\u001b[1;33m\u001b[0m\u001b[1;33m\u001b[0m\u001b[0m\n\u001b[0;32m     27\u001b[0m     ]\n",
      "\u001b[1;32m<ipython-input-1-01db6ac227f1>\u001b[0m in \u001b[0;36m<listcomp>\u001b[1;34m(.0)\u001b[0m\n\u001b[0;32m     24\u001b[0m     \u001b[0mnumber\u001b[0m \u001b[1;33m=\u001b[0m \u001b[0mmax\u001b[0m\u001b[1;33m(\u001b[0m\u001b[0mint\u001b[0m\u001b[1;33m(\u001b[0m\u001b[0mnp\u001b[0m\u001b[1;33m.\u001b[0m\u001b[0mfloor\u001b[0m\u001b[1;33m(\u001b[0m\u001b[0mestimated_time\u001b[0m \u001b[1;33m/\u001b[0m \u001b[0msingle_execution\u001b[0m \u001b[1;33m/\u001b[0m \u001b[0mretries\u001b[0m\u001b[1;33m)\u001b[0m\u001b[1;33m)\u001b[0m\u001b[1;33m,\u001b[0m \u001b[1;36m1\u001b[0m\u001b[1;33m)\u001b[0m\u001b[1;33m\u001b[0m\u001b[1;33m\u001b[0m\u001b[0m\n\u001b[0;32m     25\u001b[0m     times = [\n\u001b[1;32m---> 26\u001b[1;33m         \u001b[0mtimeit\u001b[0m\u001b[1;33m.\u001b[0m\u001b[0mtimeit\u001b[0m\u001b[1;33m(\u001b[0m\u001b[0mstmt\u001b[0m\u001b[1;33m=\u001b[0m\u001b[1;34m\"eigvals_func(A)\"\u001b[0m\u001b[1;33m,\u001b[0m \u001b[0mglobals\u001b[0m\u001b[1;33m=\u001b[0m\u001b[0mvariables\u001b[0m\u001b[1;33m,\u001b[0m \u001b[0mnumber\u001b[0m\u001b[1;33m=\u001b[0m\u001b[0mnumber\u001b[0m\u001b[1;33m)\u001b[0m \u001b[1;33m/\u001b[0m \u001b[0mnumber\u001b[0m \u001b[1;32mfor\u001b[0m \u001b[0m_\u001b[0m \u001b[1;32min\u001b[0m \u001b[0mrange\u001b[0m\u001b[1;33m(\u001b[0m\u001b[0mretries\u001b[0m\u001b[1;33m)\u001b[0m\u001b[1;33m\u001b[0m\u001b[1;33m\u001b[0m\u001b[0m\n\u001b[0m\u001b[0;32m     27\u001b[0m     ]\n\u001b[0;32m     28\u001b[0m     \u001b[1;32mreturn\u001b[0m \u001b[0mtimes\u001b[0m\u001b[1;33m\u001b[0m\u001b[1;33m\u001b[0m\u001b[0m\n",
      "\u001b[1;32mC:\\Program Files\\WindowsApps\\PythonSoftwareFoundation.Python.3.8_3.8.2800.0_x64__qbz5n2kfra8p0\\lib\\timeit.py\u001b[0m in \u001b[0;36mtimeit\u001b[1;34m(stmt, setup, timer, number, globals)\u001b[0m\n\u001b[0;32m    231\u001b[0m            number=default_number, globals=None):\n\u001b[0;32m    232\u001b[0m     \u001b[1;34m\"\"\"Convenience function to create Timer object and call timeit method.\"\"\"\u001b[0m\u001b[1;33m\u001b[0m\u001b[1;33m\u001b[0m\u001b[0m\n\u001b[1;32m--> 233\u001b[1;33m     \u001b[1;32mreturn\u001b[0m \u001b[0mTimer\u001b[0m\u001b[1;33m(\u001b[0m\u001b[0mstmt\u001b[0m\u001b[1;33m,\u001b[0m \u001b[0msetup\u001b[0m\u001b[1;33m,\u001b[0m \u001b[0mtimer\u001b[0m\u001b[1;33m,\u001b[0m \u001b[0mglobals\u001b[0m\u001b[1;33m)\u001b[0m\u001b[1;33m.\u001b[0m\u001b[0mtimeit\u001b[0m\u001b[1;33m(\u001b[0m\u001b[0mnumber\u001b[0m\u001b[1;33m)\u001b[0m\u001b[1;33m\u001b[0m\u001b[1;33m\u001b[0m\u001b[0m\n\u001b[0m\u001b[0;32m    234\u001b[0m \u001b[1;33m\u001b[0m\u001b[0m\n\u001b[0;32m    235\u001b[0m def repeat(stmt=\"pass\", setup=\"pass\", timer=default_timer,\n",
      "\u001b[1;32mC:\\Program Files\\WindowsApps\\PythonSoftwareFoundation.Python.3.8_3.8.2800.0_x64__qbz5n2kfra8p0\\lib\\timeit.py\u001b[0m in \u001b[0;36mtimeit\u001b[1;34m(self, number)\u001b[0m\n\u001b[0;32m    175\u001b[0m         \u001b[0mgc\u001b[0m\u001b[1;33m.\u001b[0m\u001b[0mdisable\u001b[0m\u001b[1;33m(\u001b[0m\u001b[1;33m)\u001b[0m\u001b[1;33m\u001b[0m\u001b[1;33m\u001b[0m\u001b[0m\n\u001b[0;32m    176\u001b[0m         \u001b[1;32mtry\u001b[0m\u001b[1;33m:\u001b[0m\u001b[1;33m\u001b[0m\u001b[1;33m\u001b[0m\u001b[0m\n\u001b[1;32m--> 177\u001b[1;33m             \u001b[0mtiming\u001b[0m \u001b[1;33m=\u001b[0m \u001b[0mself\u001b[0m\u001b[1;33m.\u001b[0m\u001b[0minner\u001b[0m\u001b[1;33m(\u001b[0m\u001b[0mit\u001b[0m\u001b[1;33m,\u001b[0m \u001b[0mself\u001b[0m\u001b[1;33m.\u001b[0m\u001b[0mtimer\u001b[0m\u001b[1;33m)\u001b[0m\u001b[1;33m\u001b[0m\u001b[1;33m\u001b[0m\u001b[0m\n\u001b[0m\u001b[0;32m    178\u001b[0m         \u001b[1;32mfinally\u001b[0m\u001b[1;33m:\u001b[0m\u001b[1;33m\u001b[0m\u001b[1;33m\u001b[0m\u001b[0m\n\u001b[0;32m    179\u001b[0m             \u001b[1;32mif\u001b[0m \u001b[0mgcold\u001b[0m\u001b[1;33m:\u001b[0m\u001b[1;33m\u001b[0m\u001b[1;33m\u001b[0m\u001b[0m\n",
      "\u001b[1;32m<timeit-src>\u001b[0m in \u001b[0;36minner\u001b[1;34m(_it, _timer)\u001b[0m\n",
      "\u001b[1;32m<ipython-input-3-e638c888ae0b>\u001b[0m in \u001b[0;36meigenvalues\u001b[1;34m(A, rtol, atol)\u001b[0m\n\u001b[0;32m     11\u001b[0m     \u001b[0msquared_A\u001b[0m \u001b[1;33m=\u001b[0m \u001b[0mnp\u001b[0m\u001b[1;33m.\u001b[0m\u001b[0msquare\u001b[0m\u001b[1;33m(\u001b[0m\u001b[0mA\u001b[0m\u001b[1;33m)\u001b[0m\u001b[1;33m\u001b[0m\u001b[1;33m\u001b[0m\u001b[0m\n\u001b[0;32m     12\u001b[0m     \u001b[1;32mwhile\u001b[0m \u001b[0msquared_A\u001b[0m\u001b[1;33m.\u001b[0m\u001b[0msum\u001b[0m\u001b[1;33m(\u001b[0m\u001b[1;33m)\u001b[0m \u001b[1;33m-\u001b[0m \u001b[0mnp\u001b[0m\u001b[1;33m.\u001b[0m\u001b[0mdiag\u001b[0m\u001b[1;33m(\u001b[0m\u001b[0msquared_A\u001b[0m\u001b[1;33m)\u001b[0m\u001b[1;33m.\u001b[0m\u001b[0msum\u001b[0m\u001b[1;33m(\u001b[0m\u001b[1;33m)\u001b[0m \u001b[1;33m>=\u001b[0m \u001b[0mrtol\u001b[0m \u001b[1;33m*\u001b[0m \u001b[0msquared_A\u001b[0m\u001b[1;33m.\u001b[0m\u001b[0msum\u001b[0m\u001b[1;33m(\u001b[0m\u001b[1;33m)\u001b[0m \u001b[1;33m+\u001b[0m \u001b[0matol\u001b[0m\u001b[1;33m:\u001b[0m\u001b[1;33m\u001b[0m\u001b[1;33m\u001b[0m\u001b[0m\n\u001b[1;32m---> 13\u001b[1;33m         \u001b[0mQ\u001b[0m\u001b[1;33m,\u001b[0m \u001b[0mR\u001b[0m \u001b[1;33m=\u001b[0m \u001b[0mqr\u001b[0m\u001b[1;33m(\u001b[0m\u001b[0mA\u001b[0m\u001b[1;33m)\u001b[0m\u001b[1;33m\u001b[0m\u001b[1;33m\u001b[0m\u001b[0m\n\u001b[0m\u001b[0;32m     14\u001b[0m         \u001b[0mA\u001b[0m \u001b[1;33m=\u001b[0m \u001b[0mR\u001b[0m\u001b[1;33m.\u001b[0m\u001b[0mdot\u001b[0m\u001b[1;33m(\u001b[0m\u001b[0mQ\u001b[0m\u001b[1;33m)\u001b[0m\u001b[1;33m\u001b[0m\u001b[1;33m\u001b[0m\u001b[0m\n\u001b[0;32m     15\u001b[0m         \u001b[0msquared_A\u001b[0m \u001b[1;33m=\u001b[0m \u001b[0mnp\u001b[0m\u001b[1;33m.\u001b[0m\u001b[0msquare\u001b[0m\u001b[1;33m(\u001b[0m\u001b[0mA\u001b[0m\u001b[1;33m)\u001b[0m\u001b[1;33m\u001b[0m\u001b[1;33m\u001b[0m\u001b[0m\n",
      "\u001b[1;32m<ipython-input-3-e638c888ae0b>\u001b[0m in \u001b[0;36mqr\u001b[1;34m(A)\u001b[0m\n\u001b[0;32m      3\u001b[0m     \u001b[0mQ\u001b[0m\u001b[1;33m[\u001b[0m\u001b[1;33m:\u001b[0m\u001b[1;33m,\u001b[0m \u001b[1;36m0\u001b[0m\u001b[1;33m]\u001b[0m \u001b[1;33m/=\u001b[0m \u001b[0mnp\u001b[0m\u001b[1;33m.\u001b[0m\u001b[0mlinalg\u001b[0m\u001b[1;33m.\u001b[0m\u001b[0mnorm\u001b[0m\u001b[1;33m(\u001b[0m\u001b[0mQ\u001b[0m\u001b[1;33m[\u001b[0m\u001b[1;33m:\u001b[0m\u001b[1;33m,\u001b[0m \u001b[1;36m0\u001b[0m\u001b[1;33m]\u001b[0m\u001b[1;33m)\u001b[0m\u001b[1;33m\u001b[0m\u001b[1;33m\u001b[0m\u001b[0m\n\u001b[0;32m      4\u001b[0m     \u001b[1;32mfor\u001b[0m \u001b[0mi\u001b[0m \u001b[1;32min\u001b[0m \u001b[0mrange\u001b[0m\u001b[1;33m(\u001b[0m\u001b[1;36m1\u001b[0m\u001b[1;33m,\u001b[0m \u001b[0mA\u001b[0m\u001b[1;33m.\u001b[0m\u001b[0mshape\u001b[0m\u001b[1;33m[\u001b[0m\u001b[1;36m0\u001b[0m\u001b[1;33m]\u001b[0m\u001b[1;33m)\u001b[0m\u001b[1;33m:\u001b[0m\u001b[1;33m\u001b[0m\u001b[1;33m\u001b[0m\u001b[0m\n\u001b[1;32m----> 5\u001b[1;33m         \u001b[0mQ\u001b[0m\u001b[1;33m[\u001b[0m\u001b[1;33m:\u001b[0m\u001b[1;33m,\u001b[0m \u001b[0mi\u001b[0m\u001b[1;33m]\u001b[0m \u001b[1;33m-=\u001b[0m \u001b[0mQ\u001b[0m\u001b[1;33m[\u001b[0m\u001b[1;33m:\u001b[0m\u001b[1;33m,\u001b[0m \u001b[1;33m:\u001b[0m\u001b[0mi\u001b[0m\u001b[1;33m]\u001b[0m\u001b[1;33m.\u001b[0m\u001b[0mdot\u001b[0m\u001b[1;33m(\u001b[0m\u001b[0mQ\u001b[0m\u001b[1;33m[\u001b[0m\u001b[1;33m:\u001b[0m\u001b[1;33m,\u001b[0m \u001b[1;33m:\u001b[0m\u001b[0mi\u001b[0m\u001b[1;33m]\u001b[0m\u001b[1;33m.\u001b[0m\u001b[0mT\u001b[0m\u001b[1;33m)\u001b[0m\u001b[1;33m.\u001b[0m\u001b[0mdot\u001b[0m\u001b[1;33m(\u001b[0m\u001b[0mQ\u001b[0m\u001b[1;33m[\u001b[0m\u001b[1;33m:\u001b[0m\u001b[1;33m,\u001b[0m \u001b[0mi\u001b[0m\u001b[1;33m]\u001b[0m\u001b[1;33m)\u001b[0m\u001b[1;33m\u001b[0m\u001b[1;33m\u001b[0m\u001b[0m\n\u001b[0m\u001b[0;32m      6\u001b[0m         \u001b[0mQ\u001b[0m\u001b[1;33m[\u001b[0m\u001b[1;33m:\u001b[0m\u001b[1;33m,\u001b[0m \u001b[0mi\u001b[0m\u001b[1;33m]\u001b[0m \u001b[1;33m/=\u001b[0m \u001b[0mnp\u001b[0m\u001b[1;33m.\u001b[0m\u001b[0mlinalg\u001b[0m\u001b[1;33m.\u001b[0m\u001b[0mnorm\u001b[0m\u001b[1;33m(\u001b[0m\u001b[0mQ\u001b[0m\u001b[1;33m[\u001b[0m\u001b[1;33m:\u001b[0m\u001b[1;33m,\u001b[0m \u001b[0mi\u001b[0m\u001b[1;33m]\u001b[0m\u001b[1;33m)\u001b[0m\u001b[1;33m\u001b[0m\u001b[1;33m\u001b[0m\u001b[0m\n\u001b[0;32m      7\u001b[0m     \u001b[0mR\u001b[0m \u001b[1;33m=\u001b[0m \u001b[0mQ\u001b[0m\u001b[1;33m.\u001b[0m\u001b[0mT\u001b[0m\u001b[1;33m.\u001b[0m\u001b[0mdot\u001b[0m\u001b[1;33m(\u001b[0m\u001b[0mA\u001b[0m\u001b[1;33m)\u001b[0m\u001b[1;33m\u001b[0m\u001b[1;33m\u001b[0m\u001b[0m\n",
      "\u001b[1;31mKeyboardInterrupt\u001b[0m: "
     ]
    }
   ],
   "source": [
    "def qr(A):\n",
    "    Q = A.copy()\n",
    "    Q[:, 0] /= np.linalg.norm(Q[:, 0])\n",
    "    for i in range(1, A.shape[0]):\n",
    "        Q[:, i] -= Q[:, :i].dot(Q[:, :i].T).dot(Q[:, i])\n",
    "        Q[:, i] /= np.linalg.norm(Q[:, i])\n",
    "    R = Q.T.dot(A)\n",
    "    return Q, R\n",
    "\n",
    "def eigenvalues(A, rtol=1e-6, atol=1e-8):\n",
    "    squared_A = np.square(A)\n",
    "    while squared_A.sum() - np.diag(squared_A).sum() >= rtol * squared_A.sum() + atol:\n",
    "        Q, R = qr(A)\n",
    "        A = R.dot(Q)\n",
    "        squared_A = np.square(A)\n",
    "    return np.diag(A)\n",
    "\n",
    "for n in n_values:\n",
    "    result = make_experiment(eigenvalues, N=n)\n",
    "    results.append(result)"
   ]
  },
  {
   "cell_type": "markdown",
   "id": "45c93aec",
   "metadata": {},
   "source": [
    "## Попытка ускорения итерации на Numpy"
   ]
  },
  {
   "cell_type": "code",
   "execution_count": null,
   "id": "0c03b4d6",
   "metadata": {
    "ExecuteTime": {
     "end_time": "2021-05-06T19:09:23.470714Z",
     "start_time": "2021-05-06T19:08:57.412Z"
    }
   },
   "outputs": [],
   "source": [
    "def make_iteration(A):\n",
    "    Q = A.copy()\n",
    "    Q[:, 0] /= np.linalg.norm(Q[:, 0])\n",
    "    for i in range(1, A.shape[0]):\n",
    "        Q[:, i] -= Q[:, :i].dot(Q[:, :i].T).dot(Q[:, i])\n",
    "        Q[:, i] /= np.linalg.norm(Q[:, i])\n",
    "    return Q.T.dot(A).dot(Q)\n",
    "\n",
    "def eigenvalues(A, rtol=1e-6, atol=1e-8):\n",
    "    squared_A = np.square(A)\n",
    "    while squared_A.sum() - np.diag(squared_A).sum() >= rtol * squared_A.sum() + atol:\n",
    "        A = make_iteration(A)\n",
    "        squared_A = np.square(A)\n",
    "    return np.diag(A)\n",
    "\n",
    "for n in n_values:\n",
    "    result = make_experiment(eigenvalues, N=n)\n",
    "    results.append(result)"
   ]
  },
  {
   "cell_type": "markdown",
   "id": "276d0565",
   "metadata": {},
   "source": [
    "## Оптимизация вычисления функции на Numpy за счёт кэширования результатов"
   ]
  },
  {
   "cell_type": "code",
   "execution_count": null,
   "id": "010713ba",
   "metadata": {
    "ExecuteTime": {
     "end_time": "2021-05-06T19:09:23.472712Z",
     "start_time": "2021-05-06T19:08:57.414Z"
    }
   },
   "outputs": [],
   "source": [
    "def make_iteration(A):\n",
    "    Q = A.T.copy()\n",
    "    saved_Q = np.zeros_like(A)\n",
    "    for i in range(A.shape[0]):\n",
    "        Q[i] -= saved_Q.dot(Q[i])\n",
    "        Q[i] /= np.linalg.norm(Q[i])\n",
    "        saved_Q += np.outer(Q[i], Q[i])\n",
    "    return np.linalg.multi_dot([Q, A, Q.T])\n",
    "\n",
    "def eigenvalues(A, rtol=1e-6, atol=1e-8):\n",
    "    squared_A = np.square(A)\n",
    "    while squared_A.sum() - np.diag(squared_A).sum() >= rtol * squared_A.sum() + atol:\n",
    "        A = make_iteration(A)\n",
    "        squared_A = np.square(A)\n",
    "    return np.diag(A)\n",
    "\n",
    "for n in n_values:\n",
    "    result = make_experiment(eigenvalues, N=n)\n",
    "    results.append(result)"
   ]
  },
  {
   "cell_type": "markdown",
   "id": "2df3b135",
   "metadata": {},
   "source": [
    "## Numba JIT"
   ]
  },
  {
   "cell_type": "code",
   "execution_count": null,
   "id": "da4e8557",
   "metadata": {
    "ExecuteTime": {
     "end_time": "2021-05-06T19:09:23.473712Z",
     "start_time": "2021-05-06T19:08:57.415Z"
    }
   },
   "outputs": [],
   "source": [
    "from numba import jit\n",
    "\n",
    "@jit(nopython=True)\n",
    "def make_iteration(A):\n",
    "    Q = A.T.copy()\n",
    "    saved_Q = np.zeros_like(A)\n",
    "    for i in range(A.shape[0]):\n",
    "        Q[i] -= saved_Q.dot(Q[i])\n",
    "        Q[i] /= np.linalg.norm(Q[i])\n",
    "        saved_Q += np.outer(Q[i], Q[i])\n",
    "    return Q.dot(A).dot(Q.T)\n",
    "\n",
    "@jit(nopython=True)\n",
    "def eigenvalues(A, rtol=1e-6, atol=1e-8):\n",
    "    squared_A = np.square(A)\n",
    "    while squared_A.sum() - np.diag(squared_A).sum() >= rtol * squared_A.sum() + atol:\n",
    "        A = make_iteration(A)\n",
    "        squared_A = np.square(A)\n",
    "    return np.diag(A)\n",
    "\n",
    "for n in n_values:\n",
    "    result = make_experiment(eigenvalues, N=n)\n",
    "    results.append(result)"
   ]
  },
  {
   "cell_type": "markdown",
   "id": "7bc934eb",
   "metadata": {},
   "source": [
    "## Numba JIT с дополнительными параметрами"
   ]
  },
  {
   "cell_type": "code",
   "execution_count": null,
   "id": "2162a305",
   "metadata": {
    "ExecuteTime": {
     "end_time": "2021-05-06T19:09:23.474713Z",
     "start_time": "2021-05-06T19:08:57.417Z"
    }
   },
   "outputs": [],
   "source": [
    "from numba import jit\n",
    "\n",
    "@jit(nopython=True, nogil=True, fastmath=True, cache=True)\n",
    "def make_iteration(A):\n",
    "    Q = A.T.copy()\n",
    "    saved_Q = np.zeros_like(A)\n",
    "    for i in range(A.shape[0]):\n",
    "        Q[i] -= saved_Q.dot(Q[i])\n",
    "        Q[i] /= np.linalg.norm(Q[i])\n",
    "        saved_Q += np.outer(Q[i], Q[i])\n",
    "    return Q.dot(A).dot(Q.T)\n",
    "\n",
    "@jit(nopython=True, nogil=True, fastmath=True, cache=True)\n",
    "def eigenvalues(A, rtol=1e-6, atol=1e-8):\n",
    "    squared_A = np.square(A)\n",
    "    while squared_A.sum() - np.diag(squared_A).sum() >= rtol * squared_A.sum() + atol:\n",
    "        A = make_iteration(A)\n",
    "        squared_A = np.square(A)\n",
    "    return np.diag(A)\n",
    "\n",
    "for n in n_values:\n",
    "    result = make_experiment(eigenvalues, N=n)\n",
    "    results.append(result)"
   ]
  },
  {
   "cell_type": "markdown",
   "id": "272ac093",
   "metadata": {},
   "source": [
    "## Numba guvectorize"
   ]
  },
  {
   "cell_type": "code",
   "execution_count": null,
   "id": "46134638",
   "metadata": {
    "ExecuteTime": {
     "end_time": "2021-05-06T19:09:23.476712Z",
     "start_time": "2021-05-06T19:08:57.419Z"
    }
   },
   "outputs": [],
   "source": [
    "from numba import guvectorize, float64\n",
    "\n",
    "@guvectorize([\"void(float64[:, ::1], float64, float64, float64[::1])\"], \"(n,n), (), () -> (n)\", nopython=True, target='cpu')\n",
    "def eigenvalues(A, rtol=1e-6, atol=1e-8, out=None):\n",
    "    squared_A = A * A\n",
    "    while squared_A.sum() - np.diag(squared_A).sum() >= rtol * squared_A.sum() + atol:\n",
    "        Q = A.T.copy()\n",
    "        Q[0] /= np.linalg.norm(Q[0])\n",
    "        saved_Q = np.zeros_like(A)\n",
    "        for i in range(A.shape[0]):\n",
    "            Q[i] -= saved_Q.dot(Q[i])\n",
    "            Q[i] /= np.linalg.norm(Q[i])\n",
    "            saved_Q += np.outer(Q[i], Q[i])\n",
    "        A = Q.dot(A).dot(Q.T)\n",
    "        \n",
    "        squared_A = A * A\n",
    "    out[:] = np.diag(A)\n",
    "\n",
    "def eigenvalues_wrapper(A, rtol=1e-6, atol=1e-8):\n",
    "    result = np.empty(A.shape[0], dtype=float)\n",
    "    eigenvalues(A, rtol, atol, result)\n",
    "    return result\n",
    "\n",
    "for n in n_values:\n",
    "    result = make_experiment(eigenvalues_wrapper, N=n)\n",
    "    results.append(result)"
   ]
  },
  {
   "cell_type": "code",
   "execution_count": null,
   "id": "39482d8c",
   "metadata": {},
   "outputs": [],
   "source": []
  },
  {
   "cell_type": "code",
   "execution_count": null,
   "id": "2a77de2f",
   "metadata": {
    "ExecuteTime": {
     "end_time": "2021-05-06T19:09:23.477712Z",
     "start_time": "2021-05-06T19:08:57.422Z"
    }
   },
   "outputs": [],
   "source": [
    "def f(x):\n",
    "    return list(map(float, x.split()))\n",
    "\n",
    "gg = [\n",
    "    f(\"0.069969 0.080002 0.070009 0.069989 0.07 0.069998 0.08\"),\n",
    "    f(\"0.309973 0.300028 0.309973 0.32003 0.30997 0.310007 0.299993\"),\n",
    "    f(\"3.00883 3.13567 3.20012 3.14 3.17999 3.11904 3.16399\"),\n",
    "    f(\"21.4515 21.4018 21.6 21.5061 21.14 21.8804 21.641\"),\n",
    "    f(\"29.7156 29.3104 29.7019 31.9827 30.4195 29.6241 31.0762\"),\n",
    "    f(\"87.9677 87.8141 87.8033 87.9801 88.7885 87.4791 86.9187\"),\n",
    "]"
   ]
  },
  {
   "cell_type": "code",
   "execution_count": null,
   "id": "67b08457",
   "metadata": {
    "ExecuteTime": {
     "end_time": "2021-05-06T19:09:23.478713Z",
     "start_time": "2021-05-06T19:08:57.424Z"
    }
   },
   "outputs": [],
   "source": [
    "gg"
   ]
  },
  {
   "cell_type": "code",
   "execution_count": null,
   "id": "d3c4a6a5",
   "metadata": {
    "ExecuteTime": {
     "end_time": "2021-05-06T19:09:23.479713Z",
     "start_time": "2021-05-06T19:08:57.427Z"
    }
   },
   "outputs": [],
   "source": [
    "names = ['Numpy 1', 'Numpy 2', 'Numpy 3', 'Numba JIT', 'Numbda JIT с доп. пар.', 'Numba guvectorize', 'C++']"
   ]
  },
  {
   "cell_type": "code",
   "execution_count": null,
   "id": "08026b88",
   "metadata": {
    "ExecuteTime": {
     "end_time": "2021-05-06T19:09:23.481714Z",
     "start_time": "2021-05-06T19:08:57.429Z"
    }
   },
   "outputs": [],
   "source": [
    "total_results = np.array(results + gg).reshape(len(names), len(n_values), -1) * 1000"
   ]
  },
  {
   "cell_type": "code",
   "execution_count": null,
   "id": "b9677f42",
   "metadata": {
    "ExecuteTime": {
     "end_time": "2021-05-06T19:09:23.482712Z",
     "start_time": "2021-05-06T19:08:57.430Z"
    }
   },
   "outputs": [],
   "source": [
    "R = pd.DataFrame(np.core.defchararray.add(np.core.defchararray.add(np.round(total_results.mean(axis=-1), 1).astype(str), \" ± \"), np.round(total_results.std(axis=-1), 1).astype(str)), index=names, columns=n_values)"
   ]
  },
  {
   "cell_type": "code",
   "execution_count": null,
   "id": "d9e011c3",
   "metadata": {
    "ExecuteTime": {
     "end_time": "2021-05-06T19:09:23.484712Z",
     "start_time": "2021-05-06T19:08:57.434Z"
    }
   },
   "outputs": [],
   "source": [
    "R"
   ]
  },
  {
   "cell_type": "code",
   "execution_count": null,
   "id": "1ee603de",
   "metadata": {
    "ExecuteTime": {
     "end_time": "2021-05-06T19:09:23.485712Z",
     "start_time": "2021-05-06T19:08:57.436Z"
    }
   },
   "outputs": [],
   "source": [
    "for i, j in enumerate(np.round(total_results.mean(axis=-1), 1).argmin(axis=0)):\n",
    "    R.iloc[j, i] = '\\\\textbf{' + R.iloc[j, i] + \"}\""
   ]
  },
  {
   "cell_type": "code",
   "execution_count": null,
   "id": "21b0ccf4",
   "metadata": {
    "ExecuteTime": {
     "end_time": "2021-05-06T19:09:23.486716Z",
     "start_time": "2021-05-06T19:08:57.437Z"
    }
   },
   "outputs": [],
   "source": [
    "R"
   ]
  },
  {
   "cell_type": "code",
   "execution_count": null,
   "id": "10b700d6",
   "metadata": {
    "ExecuteTime": {
     "end_time": "2021-05-06T19:09:23.488712Z",
     "start_time": "2021-05-06T19:08:57.439Z"
    }
   },
   "outputs": [],
   "source": [
    "R[np.arange(10, 60, 10)].reset_index().to_csv(\"../../report/tables/results.csv\", sep=';', index=False)"
   ]
  },
  {
   "cell_type": "code",
   "execution_count": null,
   "id": "f3eb18d0",
   "metadata": {},
   "outputs": [],
   "source": []
  }
 ],
 "metadata": {
  "kernelspec": {
   "display_name": "Python 3",
   "language": "python",
   "name": "python3"
  },
  "language_info": {
   "codemirror_mode": {
    "name": "ipython",
    "version": 3
   },
   "file_extension": ".py",
   "mimetype": "text/x-python",
   "name": "python",
   "nbconvert_exporter": "python",
   "pygments_lexer": "ipython3",
   "version": "3.8.10"
  }
 },
 "nbformat": 4,
 "nbformat_minor": 5
}
