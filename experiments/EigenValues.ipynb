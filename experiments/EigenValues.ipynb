{
 "cells": [
  {
   "cell_type": "code",
   "execution_count": 1,
   "id": "682f3682",
   "metadata": {
    "ExecuteTime": {
     "end_time": "2021-05-06T19:13:37.529199Z",
     "start_time": "2021-05-06T19:13:28.316764Z"
    },
    "scrolled": true
   },
   "outputs": [
    {
     "data": {
      "application/vnd.jupyter.widget-view+json": {
       "model_id": "d5f1aa40cac24acd8a59cd55c344df47",
       "version_major": 2,
       "version_minor": 0
      },
      "text/plain": [
       "Checking correctness:   0%|          | 0/10 [00:00<?, ?it/s]"
      ]
     },
     "metadata": {},
     "output_type": "display_data"
    },
    {
     "data": {
      "text/plain": [
       "[0.00044575650940049656,\n",
       " 0.0004473280595956012,\n",
       " 0.00043314040439872267,\n",
       " 0.0004447318907413979,\n",
       " 0.0004327571124512237,\n",
       " 0.0004330012770485987,\n",
       " 0.00044434742816601625]"
      ]
     },
     "execution_count": 1,
     "metadata": {},
     "output_type": "execute_result"
    }
   ],
   "source": [
    "import numpy as np\n",
    "import timeit\n",
    "from tqdm.auto import tqdm\n",
    "import pandas as pd\n",
    "\n",
    "def check_correctness(eigvals_func, A, rtol=1e-2, atol=1e-3):\n",
    "    assert np.allclose(sorted(np.linalg.eigvals(A)), sorted(eigvals_func(A)), rtol=rtol, atol=atol)\n",
    "\n",
    "def make_experiment(eigvals_func, N=50, random_seed=0, correctness_tests=10, rtol=1e-2, atol=1e-3, estimated_time=10, retries=7, filename=None):\n",
    "    np.random.seed(random_seed)\n",
    "    for _ in tqdm(range(correctness_tests), desc=\"Checking correctness\"):\n",
    "        A = np.random.randn(N, N)\n",
    "        A = A.dot(A.T)\n",
    "        check_correctness(eigvals_func, A, rtol=rtol, atol=atol)\n",
    "        \n",
    "    if filename is not None:\n",
    "        with open(filename, \"w\") as f:\n",
    "            f.write(str(N) + \"\\n\")\n",
    "            f.write(\"\\n\".join([\" \".join(x) for x in A.astype(str)]))\n",
    "        print(np.linalg.eigvals(A))\n",
    "    \n",
    "    variables = {'eigvals_func': eigvals_func, 'A': A}\n",
    "    single_execution = timeit.timeit(stmt=\"eigvals_func(A)\", globals=variables, number=1)\n",
    "    number = max(int(np.floor(estimated_time / single_execution / retries)), 1)\n",
    "    times = [\n",
    "        timeit.timeit(stmt=\"eigvals_func(A)\", globals=variables, number=number) / number for _ in range(retries)\n",
    "    ]\n",
    "    return times\n",
    "\n",
    "make_experiment(np.linalg.eigvals)"
   ]
  },
  {
   "cell_type": "code",
   "execution_count": 2,
   "id": "79ed6788",
   "metadata": {
    "ExecuteTime": {
     "end_time": "2021-05-06T19:14:16.420777Z",
     "start_time": "2021-05-06T19:13:37.531200Z"
    }
   },
   "outputs": [
    {
     "data": {
      "application/vnd.jupyter.widget-view+json": {
       "model_id": "7467c56a03a24f20b3dda418ee6ba598",
       "version_major": 2,
       "version_minor": 0
      },
      "text/plain": [
       "Checking correctness:   0%|          | 0/10 [00:00<?, ?it/s]"
      ]
     },
     "metadata": {},
     "output_type": "display_data"
    },
    {
     "name": "stdout",
     "output_type": "stream",
     "text": [
      "[12.54370076  0.06099317  0.32840781  3.21488977  5.07253904]\n"
     ]
    },
    {
     "data": {
      "application/vnd.jupyter.widget-view+json": {
       "model_id": "8e803a09f500412db8b1c74c4b37f67c",
       "version_major": 2,
       "version_minor": 0
      },
      "text/plain": [
       "Checking correctness:   0%|          | 0/10 [00:00<?, ?it/s]"
      ]
     },
     "metadata": {},
     "output_type": "display_data"
    },
    {
     "name": "stdout",
     "output_type": "stream",
     "text": [
      "[2.97847028e+01 2.55945678e+01 1.37579164e+01 1.11960774e+01\n",
      " 5.88960347e+00 2.19202482e+00 1.54674224e+00 1.84117622e-03\n",
      " 7.39450784e-01 3.73343632e-01]\n"
     ]
    },
    {
     "data": {
      "application/vnd.jupyter.widget-view+json": {
       "model_id": "5f4b27ab6f164007948be86fc8520918",
       "version_major": 2,
       "version_minor": 0
      },
      "text/plain": [
       "Checking correctness:   0%|          | 0/10 [00:00<?, ?it/s]"
      ]
     },
     "metadata": {},
     "output_type": "display_data"
    },
    {
     "name": "stdout",
     "output_type": "stream",
     "text": [
      "[6.99504080e+01 5.71218104e+01 5.01343988e+01 4.39782802e+01\n",
      " 3.43578606e+01 2.71136949e+01 2.32625098e+01 2.24567992e+01\n",
      " 1.97565829e+01 1.48161388e+01 1.21261429e+01 9.70567691e+00\n",
      " 5.87529903e+00 4.56643720e+00 3.88947088e+00 2.57224921e+00\n",
      " 1.37133941e+00 5.49187593e-01 7.70077440e-02 4.16234682e-02]\n"
     ]
    },
    {
     "data": {
      "application/vnd.jupyter.widget-view+json": {
       "model_id": "30481eabdc2d4a12b4bb12a078638538",
       "version_major": 2,
       "version_minor": 0
      },
      "text/plain": [
       "Checking correctness:   0%|          | 0/10 [00:00<?, ?it/s]"
      ]
     },
     "metadata": {},
     "output_type": "display_data"
    },
    {
     "name": "stdout",
     "output_type": "stream",
     "text": [
      "[9.00460824e+01 8.27476579e+01 7.81224383e+01 7.39693968e+01\n",
      " 6.28985299e+01 5.46269232e+01 4.92271427e+01 4.73391856e+01\n",
      " 4.61217258e+01 4.03773218e+01 3.22137523e+01 2.59248721e+01\n",
      " 2.25558693e+01 2.14285986e+01 2.09775713e+01 1.90401177e+01\n",
      " 1.78124993e+01 1.32351666e+01 1.05517238e+01 7.81905311e+00\n",
      " 6.61877244e+00 3.84891455e+00 3.60692696e+00 2.69805863e+00\n",
      " 5.42076630e-03 1.82603331e-01 2.47518564e-01 4.75412204e-01\n",
      " 1.55740898e+00 1.12830437e+00]\n"
     ]
    },
    {
     "data": {
      "application/vnd.jupyter.widget-view+json": {
       "model_id": "17fdd70345de4bf5969f5b609103c79e",
       "version_major": 2,
       "version_minor": 0
      },
      "text/plain": [
       "Checking correctness:   0%|          | 0/10 [00:00<?, ?it/s]"
      ]
     },
     "metadata": {},
     "output_type": "display_data"
    },
    {
     "name": "stdout",
     "output_type": "stream",
     "text": [
      "[1.39505693e+02 1.29782902e+02 1.07723769e+02 1.01323385e+02\n",
      " 9.39111570e+01 8.56867569e+01 8.34660922e+01 7.80819178e+01\n",
      " 7.00444239e+01 6.73257195e+01 5.86781762e+01 5.57201769e+01\n",
      " 5.08377973e+01 4.78292344e+01 4.04295317e+01 3.73349174e+01\n",
      " 3.56916216e+01 3.05912314e+01 2.83411950e+01 2.68548104e+01\n",
      " 2.42034999e+01 2.21140187e+01 1.75930173e+01 1.49803437e+01\n",
      " 1.37050212e+01 1.29064367e+01 9.98977672e+00 8.74418203e+00\n",
      " 8.54349624e+00 6.22833462e+00 7.79032211e-03 3.34812420e-02\n",
      " 5.61947750e-01 6.25508292e-01 1.67596452e+00 1.70278859e+00\n",
      " 2.20408178e+00 3.33625130e+00 4.26344360e+00 4.04474026e+00]\n"
     ]
    },
    {
     "data": {
      "application/vnd.jupyter.widget-view+json": {
       "model_id": "43fd07888a49465794e7bcc2b3d970c2",
       "version_major": 2,
       "version_minor": 0
      },
      "text/plain": [
       "Checking correctness:   0%|          | 0/10 [00:00<?, ?it/s]"
      ]
     },
     "metadata": {},
     "output_type": "display_data"
    },
    {
     "name": "stdout",
     "output_type": "stream",
     "text": [
      "[2.08252232e+02 1.55036102e+02 1.51338704e+02 1.41693546e+02\n",
      " 1.29723433e+02 1.16960667e+02 1.09974861e+02 1.01554156e+02\n",
      " 1.00024539e+02 9.36810806e+01 9.12094337e+01 8.42505433e+01\n",
      " 7.93069758e+01 7.53863463e+01 7.15386760e+01 6.84279459e+01\n",
      " 6.86474914e+01 6.04217118e+01 5.00497457e+01 4.50241044e+01\n",
      " 4.14457589e+01 3.81686158e+01 3.70437798e+01 3.43566358e+01\n",
      " 3.16173522e+01 2.87320306e+01 2.53558473e+01 2.34377743e+01\n",
      " 2.17943900e+01 1.98630919e+01 1.81079680e+01 1.73999698e+01\n",
      " 1.56298249e+01 1.38775208e+01 1.20729259e+01 1.10012452e+01\n",
      " 1.00839567e+01 8.07696803e+00 7.02445458e+00 5.95344559e+00\n",
      " 5.65431829e+00 4.36454810e+00 3.24870662e+00 2.76939994e+00\n",
      " 1.68527895e+00 9.05838023e-01 3.25387479e-03 4.19591503e-02\n",
      " 1.39336256e-01 4.01936385e-01]\n"
     ]
    }
   ],
   "source": [
    "n_values = [5, 10, 20, 30, 40, 50]\n",
    "results = []\n",
    "\n",
    "for n in n_values:\n",
    "    make_experiment(np.linalg.eigvals, N=n, filename=f\"{n}.txt\")"
   ]
  },
  {
   "cell_type": "markdown",
   "id": "66b2ed21",
   "metadata": {},
   "source": [
    "## Базовая имплементация на Numpy"
   ]
  },
  {
   "cell_type": "code",
   "execution_count": 3,
   "id": "d0c9b14e",
   "metadata": {
    "ExecuteTime": {
     "end_time": "2021-05-06T19:15:12.628764Z",
     "start_time": "2021-05-06T19:14:16.422782Z"
    }
   },
   "outputs": [
    {
     "data": {
      "application/vnd.jupyter.widget-view+json": {
       "model_id": "0afc8a563ff14651bad383d78c0a308c",
       "version_major": 2,
       "version_minor": 0
      },
      "text/plain": [
       "Checking correctness:   0%|          | 0/10 [00:00<?, ?it/s]"
      ]
     },
     "metadata": {},
     "output_type": "display_data"
    },
    {
     "data": {
      "application/vnd.jupyter.widget-view+json": {
       "model_id": "804e7de5b6bb431390d62b5e8e156dea",
       "version_major": 2,
       "version_minor": 0
      },
      "text/plain": [
       "Checking correctness:   0%|          | 0/10 [00:00<?, ?it/s]"
      ]
     },
     "metadata": {},
     "output_type": "display_data"
    },
    {
     "data": {
      "application/vnd.jupyter.widget-view+json": {
       "model_id": "a139b91671e24da2bafa7c1fa14da1ee",
       "version_major": 2,
       "version_minor": 0
      },
      "text/plain": [
       "Checking correctness:   0%|          | 0/10 [00:00<?, ?it/s]"
      ]
     },
     "metadata": {},
     "output_type": "display_data"
    },
    {
     "data": {
      "application/vnd.jupyter.widget-view+json": {
       "model_id": "704d0aede7714fe488e0105f3bf60619",
       "version_major": 2,
       "version_minor": 0
      },
      "text/plain": [
       "Checking correctness:   0%|          | 0/10 [00:00<?, ?it/s]"
      ]
     },
     "metadata": {},
     "output_type": "display_data"
    },
    {
     "data": {
      "application/vnd.jupyter.widget-view+json": {
       "model_id": "48680d4c8fe14bdbb82f0212de720cbb",
       "version_major": 2,
       "version_minor": 0
      },
      "text/plain": [
       "Checking correctness:   0%|          | 0/10 [00:00<?, ?it/s]"
      ]
     },
     "metadata": {},
     "output_type": "display_data"
    },
    {
     "data": {
      "application/vnd.jupyter.widget-view+json": {
       "model_id": "b72cd03d366741aa9bf69b4f012dd448",
       "version_major": 2,
       "version_minor": 0
      },
      "text/plain": [
       "Checking correctness:   0%|          | 0/10 [00:00<?, ?it/s]"
      ]
     },
     "metadata": {},
     "output_type": "display_data"
    }
   ],
   "source": [
    "def qr(A):\n",
    "    Q = A.copy()\n",
    "    Q[:, 0] /= np.linalg.norm(Q[:, 0])\n",
    "    for i in range(1, A.shape[0]):\n",
    "        Q[:, i] -= Q[:, :i].dot(Q[:, :i].T).dot(Q[:, i])\n",
    "        Q[:, i] /= np.linalg.norm(Q[:, i])\n",
    "    R = Q.T.dot(A)\n",
    "    return Q, R\n",
    "\n",
    "def eigenvalues(A, rtol=1e-6, atol=1e-8):\n",
    "    squared_A = np.square(A)\n",
    "    while squared_A.sum() - np.diag(squared_A).sum() >= rtol * squared_A.sum() + atol:\n",
    "        Q, R = qr(A)\n",
    "        A = R.dot(Q)\n",
    "        squared_A = np.square(A)\n",
    "    return np.diag(A)\n",
    "\n",
    "for n in n_values:\n",
    "    result = make_experiment(eigenvalues, N=n)\n",
    "    results.append(result)"
   ]
  },
  {
   "cell_type": "markdown",
   "id": "4ffcadbd",
   "metadata": {},
   "source": [
    "## Попытка ускорения итерации на Numpy"
   ]
  },
  {
   "cell_type": "code",
   "execution_count": 4,
   "id": "471e82d7",
   "metadata": {
    "ExecuteTime": {
     "end_time": "2021-05-06T19:16:08.809054Z",
     "start_time": "2021-05-06T19:15:12.630768Z"
    }
   },
   "outputs": [
    {
     "data": {
      "application/vnd.jupyter.widget-view+json": {
       "model_id": "23ede9949bab490fb81c0c48911fecc0",
       "version_major": 2,
       "version_minor": 0
      },
      "text/plain": [
       "Checking correctness:   0%|          | 0/10 [00:00<?, ?it/s]"
      ]
     },
     "metadata": {},
     "output_type": "display_data"
    },
    {
     "data": {
      "application/vnd.jupyter.widget-view+json": {
       "model_id": "d9d1b72c78b844e88ab5f40614f748c4",
       "version_major": 2,
       "version_minor": 0
      },
      "text/plain": [
       "Checking correctness:   0%|          | 0/10 [00:00<?, ?it/s]"
      ]
     },
     "metadata": {},
     "output_type": "display_data"
    },
    {
     "data": {
      "application/vnd.jupyter.widget-view+json": {
       "model_id": "982854950d464c88b18534c6fe7f94ba",
       "version_major": 2,
       "version_minor": 0
      },
      "text/plain": [
       "Checking correctness:   0%|          | 0/10 [00:00<?, ?it/s]"
      ]
     },
     "metadata": {},
     "output_type": "display_data"
    },
    {
     "data": {
      "application/vnd.jupyter.widget-view+json": {
       "model_id": "5105d98d667d4d6586f5202d1e83ac63",
       "version_major": 2,
       "version_minor": 0
      },
      "text/plain": [
       "Checking correctness:   0%|          | 0/10 [00:00<?, ?it/s]"
      ]
     },
     "metadata": {},
     "output_type": "display_data"
    },
    {
     "data": {
      "application/vnd.jupyter.widget-view+json": {
       "model_id": "817e259d80bc4ce69638a4e2ebbf4067",
       "version_major": 2,
       "version_minor": 0
      },
      "text/plain": [
       "Checking correctness:   0%|          | 0/10 [00:00<?, ?it/s]"
      ]
     },
     "metadata": {},
     "output_type": "display_data"
    },
    {
     "data": {
      "application/vnd.jupyter.widget-view+json": {
       "model_id": "88f70a662a3846b88123c9101dadefed",
       "version_major": 2,
       "version_minor": 0
      },
      "text/plain": [
       "Checking correctness:   0%|          | 0/10 [00:00<?, ?it/s]"
      ]
     },
     "metadata": {},
     "output_type": "display_data"
    }
   ],
   "source": [
    "def make_iteration(A):\n",
    "    Q = A.copy()\n",
    "    Q[:, 0] /= np.linalg.norm(Q[:, 0])\n",
    "    for i in range(1, A.shape[0]):\n",
    "        Q[:, i] -= Q[:, :i].dot(Q[:, :i].T).dot(Q[:, i])\n",
    "        Q[:, i] /= np.linalg.norm(Q[:, i])\n",
    "    return Q.T.dot(A).dot(Q)\n",
    "\n",
    "def eigenvalues(A, rtol=1e-6, atol=1e-8):\n",
    "    squared_A = np.square(A)\n",
    "    while squared_A.sum() - np.diag(squared_A).sum() >= rtol * squared_A.sum() + atol:\n",
    "        A = make_iteration(A)\n",
    "        squared_A = np.square(A)\n",
    "    return np.diag(A)\n",
    "\n",
    "for n in n_values:\n",
    "    result = make_experiment(eigenvalues, N=n)\n",
    "    results.append(result)"
   ]
  },
  {
   "cell_type": "markdown",
   "id": "8d119256",
   "metadata": {},
   "source": [
    "## Оптимизация вычисления функции на Numpy за счёт кэширования результатов"
   ]
  },
  {
   "cell_type": "code",
   "execution_count": 5,
   "id": "e208209f",
   "metadata": {
    "ExecuteTime": {
     "end_time": "2021-05-06T19:17:03.949854Z",
     "start_time": "2021-05-06T19:16:08.811055Z"
    }
   },
   "outputs": [
    {
     "data": {
      "application/vnd.jupyter.widget-view+json": {
       "model_id": "17480b8fa3e14197a3a74f1c9003c519",
       "version_major": 2,
       "version_minor": 0
      },
      "text/plain": [
       "Checking correctness:   0%|          | 0/10 [00:00<?, ?it/s]"
      ]
     },
     "metadata": {},
     "output_type": "display_data"
    },
    {
     "data": {
      "application/vnd.jupyter.widget-view+json": {
       "model_id": "e6745f8b6683484e899440def7e29eb2",
       "version_major": 2,
       "version_minor": 0
      },
      "text/plain": [
       "Checking correctness:   0%|          | 0/10 [00:00<?, ?it/s]"
      ]
     },
     "metadata": {},
     "output_type": "display_data"
    },
    {
     "data": {
      "application/vnd.jupyter.widget-view+json": {
       "model_id": "43163e69617d479881a616f90c808cfb",
       "version_major": 2,
       "version_minor": 0
      },
      "text/plain": [
       "Checking correctness:   0%|          | 0/10 [00:00<?, ?it/s]"
      ]
     },
     "metadata": {},
     "output_type": "display_data"
    },
    {
     "data": {
      "application/vnd.jupyter.widget-view+json": {
       "model_id": "18c4f5d4edaf48a8a1e5bc5a525c7afc",
       "version_major": 2,
       "version_minor": 0
      },
      "text/plain": [
       "Checking correctness:   0%|          | 0/10 [00:00<?, ?it/s]"
      ]
     },
     "metadata": {},
     "output_type": "display_data"
    },
    {
     "data": {
      "application/vnd.jupyter.widget-view+json": {
       "model_id": "6c9a9f35fb95467790369c061324a4e0",
       "version_major": 2,
       "version_minor": 0
      },
      "text/plain": [
       "Checking correctness:   0%|          | 0/10 [00:00<?, ?it/s]"
      ]
     },
     "metadata": {},
     "output_type": "display_data"
    },
    {
     "data": {
      "application/vnd.jupyter.widget-view+json": {
       "model_id": "7da35e7ae72f461f875e11fbd02a7e11",
       "version_major": 2,
       "version_minor": 0
      },
      "text/plain": [
       "Checking correctness:   0%|          | 0/10 [00:00<?, ?it/s]"
      ]
     },
     "metadata": {},
     "output_type": "display_data"
    }
   ],
   "source": [
    "def make_iteration(A):\n",
    "    Q = A.T.copy()\n",
    "    saved_Q = np.zeros_like(A)\n",
    "    for i in range(A.shape[0]):\n",
    "        Q[i] -= saved_Q.dot(Q[i])\n",
    "        Q[i] /= np.linalg.norm(Q[i])\n",
    "        saved_Q += np.outer(Q[i], Q[i])\n",
    "    return np.linalg.multi_dot([Q, A, Q.T])\n",
    "\n",
    "def eigenvalues(A, rtol=1e-6, atol=1e-8):\n",
    "    squared_A = np.square(A)\n",
    "    while squared_A.sum() - np.diag(squared_A).sum() >= rtol * squared_A.sum() + atol:\n",
    "        A = make_iteration(A)\n",
    "        squared_A = np.square(A)\n",
    "    return np.diag(A)\n",
    "\n",
    "for n in n_values:\n",
    "    result = make_experiment(eigenvalues, N=n)\n",
    "    results.append(result)"
   ]
  },
  {
   "cell_type": "markdown",
   "id": "51bff2b6",
   "metadata": {},
   "source": [
    "## Numba JIT"
   ]
  },
  {
   "cell_type": "code",
   "execution_count": 6,
   "id": "ff057a5f",
   "metadata": {
    "ExecuteTime": {
     "end_time": "2021-05-06T19:18:04.766852Z",
     "start_time": "2021-05-06T19:17:03.951858Z"
    }
   },
   "outputs": [
    {
     "data": {
      "application/vnd.jupyter.widget-view+json": {
       "model_id": "08acf71f48a14ed78cc5a4393ee9cbec",
       "version_major": 2,
       "version_minor": 0
      },
      "text/plain": [
       "Checking correctness:   0%|          | 0/10 [00:00<?, ?it/s]"
      ]
     },
     "metadata": {},
     "output_type": "display_data"
    },
    {
     "data": {
      "application/vnd.jupyter.widget-view+json": {
       "model_id": "b0c15c4de05443bd9cabf3571c2135cc",
       "version_major": 2,
       "version_minor": 0
      },
      "text/plain": [
       "Checking correctness:   0%|          | 0/10 [00:00<?, ?it/s]"
      ]
     },
     "metadata": {},
     "output_type": "display_data"
    },
    {
     "data": {
      "application/vnd.jupyter.widget-view+json": {
       "model_id": "44f49cb29d0a4be98058eced88b4baee",
       "version_major": 2,
       "version_minor": 0
      },
      "text/plain": [
       "Checking correctness:   0%|          | 0/10 [00:00<?, ?it/s]"
      ]
     },
     "metadata": {},
     "output_type": "display_data"
    },
    {
     "data": {
      "application/vnd.jupyter.widget-view+json": {
       "model_id": "14ecad9cef9c4c21a379003ecab75e66",
       "version_major": 2,
       "version_minor": 0
      },
      "text/plain": [
       "Checking correctness:   0%|          | 0/10 [00:00<?, ?it/s]"
      ]
     },
     "metadata": {},
     "output_type": "display_data"
    },
    {
     "data": {
      "application/vnd.jupyter.widget-view+json": {
       "model_id": "6b67c9a20a5d4570af2f1795d056bb86",
       "version_major": 2,
       "version_minor": 0
      },
      "text/plain": [
       "Checking correctness:   0%|          | 0/10 [00:00<?, ?it/s]"
      ]
     },
     "metadata": {},
     "output_type": "display_data"
    },
    {
     "data": {
      "application/vnd.jupyter.widget-view+json": {
       "model_id": "cbc58e86d7374a9fa204dcf09941b063",
       "version_major": 2,
       "version_minor": 0
      },
      "text/plain": [
       "Checking correctness:   0%|          | 0/10 [00:00<?, ?it/s]"
      ]
     },
     "metadata": {},
     "output_type": "display_data"
    }
   ],
   "source": [
    "from numba import jit\n",
    "\n",
    "@jit(nopython=True)\n",
    "def make_iteration(A):\n",
    "    Q = A.T.copy()\n",
    "    saved_Q = np.zeros_like(A)\n",
    "    for i in range(A.shape[0]):\n",
    "        Q[i] -= saved_Q.dot(Q[i])\n",
    "        Q[i] /= np.linalg.norm(Q[i])\n",
    "        saved_Q += np.outer(Q[i], Q[i])\n",
    "    return Q.dot(A).dot(Q.T)\n",
    "\n",
    "@jit(nopython=True)\n",
    "def eigenvalues(A, rtol=1e-6, atol=1e-8):\n",
    "    squared_A = np.square(A)\n",
    "    while squared_A.sum() - np.diag(squared_A).sum() >= rtol * squared_A.sum() + atol:\n",
    "        A = make_iteration(A)\n",
    "        squared_A = np.square(A)\n",
    "    return np.diag(A)\n",
    "\n",
    "for n in n_values:\n",
    "    result = make_experiment(eigenvalues, N=n)\n",
    "    results.append(result)"
   ]
  },
  {
   "cell_type": "markdown",
   "id": "1c0d14f5",
   "metadata": {},
   "source": [
    "## Numba JIT с дополнительными параметрами"
   ]
  },
  {
   "cell_type": "code",
   "execution_count": 7,
   "id": "d3641ced",
   "metadata": {
    "ExecuteTime": {
     "end_time": "2021-05-06T19:19:00.815365Z",
     "start_time": "2021-05-06T19:18:04.768822Z"
    }
   },
   "outputs": [
    {
     "data": {
      "application/vnd.jupyter.widget-view+json": {
       "model_id": "81f665a28f4f4b9f94e912b1f7703369",
       "version_major": 2,
       "version_minor": 0
      },
      "text/plain": [
       "Checking correctness:   0%|          | 0/10 [00:00<?, ?it/s]"
      ]
     },
     "metadata": {},
     "output_type": "display_data"
    },
    {
     "data": {
      "application/vnd.jupyter.widget-view+json": {
       "model_id": "465fc51a0ee94f2f878742c79d8d1884",
       "version_major": 2,
       "version_minor": 0
      },
      "text/plain": [
       "Checking correctness:   0%|          | 0/10 [00:00<?, ?it/s]"
      ]
     },
     "metadata": {},
     "output_type": "display_data"
    },
    {
     "data": {
      "application/vnd.jupyter.widget-view+json": {
       "model_id": "17fc51e15efe489cbcb8455a7b2235fe",
       "version_major": 2,
       "version_minor": 0
      },
      "text/plain": [
       "Checking correctness:   0%|          | 0/10 [00:00<?, ?it/s]"
      ]
     },
     "metadata": {},
     "output_type": "display_data"
    },
    {
     "data": {
      "application/vnd.jupyter.widget-view+json": {
       "model_id": "c80743084df143b5a336c820064af2b2",
       "version_major": 2,
       "version_minor": 0
      },
      "text/plain": [
       "Checking correctness:   0%|          | 0/10 [00:00<?, ?it/s]"
      ]
     },
     "metadata": {},
     "output_type": "display_data"
    },
    {
     "data": {
      "application/vnd.jupyter.widget-view+json": {
       "model_id": "1944360d0a194e16a386f4f35c477cf2",
       "version_major": 2,
       "version_minor": 0
      },
      "text/plain": [
       "Checking correctness:   0%|          | 0/10 [00:00<?, ?it/s]"
      ]
     },
     "metadata": {},
     "output_type": "display_data"
    },
    {
     "data": {
      "application/vnd.jupyter.widget-view+json": {
       "model_id": "bace818f37454b20805ded0d741bdbbe",
       "version_major": 2,
       "version_minor": 0
      },
      "text/plain": [
       "Checking correctness:   0%|          | 0/10 [00:00<?, ?it/s]"
      ]
     },
     "metadata": {},
     "output_type": "display_data"
    }
   ],
   "source": [
    "from numba import jit\n",
    "\n",
    "@jit(nopython=True, nogil=True, fastmath=True, cache=True)\n",
    "def make_iteration(A):\n",
    "    Q = A.T.copy()\n",
    "    saved_Q = np.zeros_like(A)\n",
    "    for i in range(A.shape[0]):\n",
    "        Q[i] -= saved_Q.dot(Q[i])\n",
    "        Q[i] /= np.linalg.norm(Q[i])\n",
    "        saved_Q += np.outer(Q[i], Q[i])\n",
    "    return Q.dot(A).dot(Q.T)\n",
    "\n",
    "@jit(nopython=True, nogil=True, fastmath=True, cache=True)\n",
    "def eigenvalues(A, rtol=1e-6, atol=1e-8):\n",
    "    squared_A = np.square(A)\n",
    "    while squared_A.sum() - np.diag(squared_A).sum() >= rtol * squared_A.sum() + atol:\n",
    "        A = make_iteration(A)\n",
    "        squared_A = np.square(A)\n",
    "    return np.diag(A)\n",
    "\n",
    "for n in n_values:\n",
    "    result = make_experiment(eigenvalues, N=n)\n",
    "    results.append(result)"
   ]
  },
  {
   "cell_type": "markdown",
   "id": "34b01c66",
   "metadata": {},
   "source": [
    "## Numba guvectorize"
   ]
  },
  {
   "cell_type": "code",
   "execution_count": 8,
   "id": "92da7df5",
   "metadata": {
    "ExecuteTime": {
     "end_time": "2021-05-06T19:20:00.896156Z",
     "start_time": "2021-05-06T19:19:00.819366Z"
    }
   },
   "outputs": [
    {
     "data": {
      "application/vnd.jupyter.widget-view+json": {
       "model_id": "8e49c07658fe45548029604c207be197",
       "version_major": 2,
       "version_minor": 0
      },
      "text/plain": [
       "Checking correctness:   0%|          | 0/10 [00:00<?, ?it/s]"
      ]
     },
     "metadata": {},
     "output_type": "display_data"
    },
    {
     "data": {
      "application/vnd.jupyter.widget-view+json": {
       "model_id": "f76d08d689f14bc0a9fe84bfb4135476",
       "version_major": 2,
       "version_minor": 0
      },
      "text/plain": [
       "Checking correctness:   0%|          | 0/10 [00:00<?, ?it/s]"
      ]
     },
     "metadata": {},
     "output_type": "display_data"
    },
    {
     "data": {
      "application/vnd.jupyter.widget-view+json": {
       "model_id": "43e253617c3b4347ab62c29f68699732",
       "version_major": 2,
       "version_minor": 0
      },
      "text/plain": [
       "Checking correctness:   0%|          | 0/10 [00:00<?, ?it/s]"
      ]
     },
     "metadata": {},
     "output_type": "display_data"
    },
    {
     "data": {
      "application/vnd.jupyter.widget-view+json": {
       "model_id": "5948d8ef7b9a409fb5364c665f71d371",
       "version_major": 2,
       "version_minor": 0
      },
      "text/plain": [
       "Checking correctness:   0%|          | 0/10 [00:00<?, ?it/s]"
      ]
     },
     "metadata": {},
     "output_type": "display_data"
    },
    {
     "data": {
      "application/vnd.jupyter.widget-view+json": {
       "model_id": "01811b5ba59a45c4a4d6c59d93885992",
       "version_major": 2,
       "version_minor": 0
      },
      "text/plain": [
       "Checking correctness:   0%|          | 0/10 [00:00<?, ?it/s]"
      ]
     },
     "metadata": {},
     "output_type": "display_data"
    },
    {
     "data": {
      "application/vnd.jupyter.widget-view+json": {
       "model_id": "c2e54ac2fc4e448093f04cbaaf61cecf",
       "version_major": 2,
       "version_minor": 0
      },
      "text/plain": [
       "Checking correctness:   0%|          | 0/10 [00:00<?, ?it/s]"
      ]
     },
     "metadata": {},
     "output_type": "display_data"
    }
   ],
   "source": [
    "from numba import guvectorize, float64\n",
    "\n",
    "@guvectorize([\"void(float64[:, ::1], float64, float64, float64[::1])\"], \"(n,n), (), () -> (n)\", nopython=True, target='cpu')\n",
    "def eigenvalues(A, rtol=1e-6, atol=1e-8, out=None):\n",
    "    squared_A = A * A\n",
    "    while squared_A.sum() - np.diag(squared_A).sum() >= rtol * squared_A.sum() + atol:\n",
    "        Q = A.T.copy()\n",
    "        Q[0] /= np.linalg.norm(Q[0])\n",
    "        saved_Q = np.zeros_like(A)\n",
    "        for i in range(A.shape[0]):\n",
    "            Q[i] -= saved_Q.dot(Q[i])\n",
    "            Q[i] /= np.linalg.norm(Q[i])\n",
    "            saved_Q += np.outer(Q[i], Q[i])\n",
    "        A = Q.dot(A).dot(Q.T)\n",
    "        \n",
    "        squared_A = A * A\n",
    "    out[:] = np.diag(A)\n",
    "\n",
    "def eigenvalues_wrapper(A, rtol=1e-6, atol=1e-8):\n",
    "    result = np.empty(A.shape[0], dtype=float)\n",
    "    eigenvalues(A, rtol, atol, result)\n",
    "    return result\n",
    "\n",
    "for n in n_values:\n",
    "    result = make_experiment(eigenvalues_wrapper, N=n)\n",
    "    results.append(result)"
   ]
  },
  {
   "cell_type": "code",
   "execution_count": null,
   "id": "9283296d",
   "metadata": {},
   "outputs": [],
   "source": []
  },
  {
   "cell_type": "code",
   "execution_count": 9,
   "id": "eb8ab1ae",
   "metadata": {
    "ExecuteTime": {
     "end_time": "2021-05-06T19:20:00.911157Z",
     "start_time": "2021-05-06T19:20:00.899159Z"
    }
   },
   "outputs": [],
   "source": [
    "def f(x):\n",
    "    return np.array(list(map(float, x.split()))) / 1000\n",
    "\n",
    "gg = [\n",
    "    f(\"0.069969 0.080002 0.070009 0.069989 0.07 0.069998 0.08\"),\n",
    "    f(\"0.309973 0.300028 0.309973 0.32003 0.30997 0.310007 0.299993\"),\n",
    "    f(\"3.00883 3.13567 3.20012 3.14 3.17999 3.11904 3.16399\"),\n",
    "    f(\"21.4515 21.4018 21.6 21.5061 21.14 21.8804 21.641\"),\n",
    "    f(\"29.7156 29.3104 29.7019 31.9827 30.4195 29.6241 31.0762\"),\n",
    "    f(\"87.9677 87.8141 87.8033 87.9801 88.7885 87.4791 86.9187\"),\n",
    "]"
   ]
  },
  {
   "cell_type": "code",
   "execution_count": 10,
   "id": "7039b720",
   "metadata": {
    "ExecuteTime": {
     "end_time": "2021-05-06T19:20:00.926158Z",
     "start_time": "2021-05-06T19:20:00.915161Z"
    }
   },
   "outputs": [
    {
     "data": {
      "text/plain": [
       "[array([6.9969e-05, 8.0002e-05, 7.0009e-05, 6.9989e-05, 7.0000e-05,\n",
       "        6.9998e-05, 8.0000e-05]),\n",
       " array([0.00030997, 0.00030003, 0.00030997, 0.00032003, 0.00030997,\n",
       "        0.00031001, 0.00029999]),\n",
       " array([0.00300883, 0.00313567, 0.00320012, 0.00314   , 0.00317999,\n",
       "        0.00311904, 0.00316399]),\n",
       " array([0.0214515, 0.0214018, 0.0216   , 0.0215061, 0.02114  , 0.0218804,\n",
       "        0.021641 ]),\n",
       " array([0.0297156, 0.0293104, 0.0297019, 0.0319827, 0.0304195, 0.0296241,\n",
       "        0.0310762]),\n",
       " array([0.0879677, 0.0878141, 0.0878033, 0.0879801, 0.0887885, 0.0874791,\n",
       "        0.0869187])]"
      ]
     },
     "execution_count": 10,
     "metadata": {},
     "output_type": "execute_result"
    }
   ],
   "source": [
    "gg"
   ]
  },
  {
   "cell_type": "code",
   "execution_count": 11,
   "id": "94a92dac",
   "metadata": {
    "ExecuteTime": {
     "end_time": "2021-05-06T19:20:00.941155Z",
     "start_time": "2021-05-06T19:20:00.928161Z"
    }
   },
   "outputs": [],
   "source": [
    "names = ['Numpy 1', 'Numpy 2', 'Numpy 3', 'Numba JIT', 'Numbda JIT с доп. пар.', 'Numba guvectorize', 'C++']"
   ]
  },
  {
   "cell_type": "code",
   "execution_count": 12,
   "id": "31ffb8ac",
   "metadata": {
    "ExecuteTime": {
     "end_time": "2021-05-06T19:20:00.956157Z",
     "start_time": "2021-05-06T19:20:00.943159Z"
    }
   },
   "outputs": [],
   "source": [
    "total_results = np.array(results + gg).reshape(len(names), len(n_values), -1) * 1000"
   ]
  },
  {
   "cell_type": "code",
   "execution_count": 13,
   "id": "66ce11c8",
   "metadata": {
    "ExecuteTime": {
     "end_time": "2021-05-06T19:20:00.971160Z",
     "start_time": "2021-05-06T19:20:00.958156Z"
    }
   },
   "outputs": [],
   "source": [
    "R = pd.DataFrame(np.core.defchararray.add(np.core.defchararray.add(np.round(total_results.mean(axis=-1), 1).astype(str), \" ± \"), np.round(total_results.std(axis=-1), 1).astype(str)), index=names, columns=n_values)"
   ]
  },
  {
   "cell_type": "code",
   "execution_count": 14,
   "id": "16490f1c",
   "metadata": {
    "ExecuteTime": {
     "end_time": "2021-05-06T19:20:01.016155Z",
     "start_time": "2021-05-06T19:20:00.974156Z"
    }
   },
   "outputs": [
    {
     "data": {
      "text/html": [
       "<div>\n",
       "<style scoped>\n",
       "    .dataframe tbody tr th:only-of-type {\n",
       "        vertical-align: middle;\n",
       "    }\n",
       "\n",
       "    .dataframe tbody tr th {\n",
       "        vertical-align: top;\n",
       "    }\n",
       "\n",
       "    .dataframe thead th {\n",
       "        text-align: right;\n",
       "    }\n",
       "</style>\n",
       "<table border=\"1\" class=\"dataframe\">\n",
       "  <thead>\n",
       "    <tr style=\"text-align: right;\">\n",
       "      <th></th>\n",
       "      <th>5</th>\n",
       "      <th>10</th>\n",
       "      <th>20</th>\n",
       "      <th>30</th>\n",
       "      <th>40</th>\n",
       "      <th>50</th>\n",
       "    </tr>\n",
       "  </thead>\n",
       "  <tbody>\n",
       "    <tr>\n",
       "      <th>Numpy 1</th>\n",
       "      <td>1.7 ± 0.1</td>\n",
       "      <td>4.6 ± 0.1</td>\n",
       "      <td>30.9 ± 0.9</td>\n",
       "      <td>138.2 ± 2.1</td>\n",
       "      <td>119.5 ± 1.8</td>\n",
       "      <td>290.5 ± 10.1</td>\n",
       "    </tr>\n",
       "    <tr>\n",
       "      <th>Numpy 2</th>\n",
       "      <td>1.7 ± 0.0</td>\n",
       "      <td>4.7 ± 0.2</td>\n",
       "      <td>30.1 ± 0.5</td>\n",
       "      <td>139.2 ± 3.5</td>\n",
       "      <td>117.0 ± 2.8</td>\n",
       "      <td>290.8 ± 4.5</td>\n",
       "    </tr>\n",
       "    <tr>\n",
       "      <th>Numpy 3</th>\n",
       "      <td>2.2 ± 0.1</td>\n",
       "      <td>5.4 ± 0.3</td>\n",
       "      <td>32.0 ± 1.3</td>\n",
       "      <td>132.5 ± 2.5</td>\n",
       "      <td>113.5 ± 3.9</td>\n",
       "      <td>262.3 ± 6.9</td>\n",
       "    </tr>\n",
       "    <tr>\n",
       "      <th>Numba JIT</th>\n",
       "      <td>0.2 ± 0.0</td>\n",
       "      <td>0.6 ± 0.0</td>\n",
       "      <td>4.2 ± 0.1</td>\n",
       "      <td>24.8 ± 0.5</td>\n",
       "      <td>27.3 ± 0.3</td>\n",
       "      <td>83.4 ± 1.0</td>\n",
       "    </tr>\n",
       "    <tr>\n",
       "      <th>Numbda JIT с доп. пар.</th>\n",
       "      <td>0.2 ± 0.0</td>\n",
       "      <td>0.6 ± 0.0</td>\n",
       "      <td>4.2 ± 0.0</td>\n",
       "      <td>24.0 ± 0.1</td>\n",
       "      <td>26.6 ± 0.2</td>\n",
       "      <td>79.0 ± 1.0</td>\n",
       "    </tr>\n",
       "    <tr>\n",
       "      <th>Numba guvectorize</th>\n",
       "      <td>0.2 ± 0.0</td>\n",
       "      <td>0.5 ± 0.0</td>\n",
       "      <td>4.2 ± 0.1</td>\n",
       "      <td>24.7 ± 0.2</td>\n",
       "      <td>26.3 ± 0.4</td>\n",
       "      <td>78.4 ± 0.5</td>\n",
       "    </tr>\n",
       "    <tr>\n",
       "      <th>C++</th>\n",
       "      <td>0.1 ± 0.0</td>\n",
       "      <td>0.3 ± 0.0</td>\n",
       "      <td>3.1 ± 0.1</td>\n",
       "      <td>21.5 ± 0.2</td>\n",
       "      <td>30.3 ± 0.9</td>\n",
       "      <td>87.8 ± 0.5</td>\n",
       "    </tr>\n",
       "  </tbody>\n",
       "</table>\n",
       "</div>"
      ],
      "text/plain": [
       "                               5          10          20           30  \\\n",
       "Numpy 1                 1.7 ± 0.1  4.6 ± 0.1  30.9 ± 0.9  138.2 ± 2.1   \n",
       "Numpy 2                 1.7 ± 0.0  4.7 ± 0.2  30.1 ± 0.5  139.2 ± 3.5   \n",
       "Numpy 3                 2.2 ± 0.1  5.4 ± 0.3  32.0 ± 1.3  132.5 ± 2.5   \n",
       "Numba JIT               0.2 ± 0.0  0.6 ± 0.0   4.2 ± 0.1   24.8 ± 0.5   \n",
       "Numbda JIT с доп. пар.  0.2 ± 0.0  0.6 ± 0.0   4.2 ± 0.0   24.0 ± 0.1   \n",
       "Numba guvectorize       0.2 ± 0.0  0.5 ± 0.0   4.2 ± 0.1   24.7 ± 0.2   \n",
       "C++                     0.1 ± 0.0  0.3 ± 0.0   3.1 ± 0.1   21.5 ± 0.2   \n",
       "\n",
       "                                 40            50  \n",
       "Numpy 1                 119.5 ± 1.8  290.5 ± 10.1  \n",
       "Numpy 2                 117.0 ± 2.8   290.8 ± 4.5  \n",
       "Numpy 3                 113.5 ± 3.9   262.3 ± 6.9  \n",
       "Numba JIT                27.3 ± 0.3    83.4 ± 1.0  \n",
       "Numbda JIT с доп. пар.   26.6 ± 0.2    79.0 ± 1.0  \n",
       "Numba guvectorize        26.3 ± 0.4    78.4 ± 0.5  \n",
       "C++                      30.3 ± 0.9    87.8 ± 0.5  "
      ]
     },
     "execution_count": 14,
     "metadata": {},
     "output_type": "execute_result"
    }
   ],
   "source": [
    "R"
   ]
  },
  {
   "cell_type": "code",
   "execution_count": 15,
   "id": "973756a3",
   "metadata": {
    "ExecuteTime": {
     "end_time": "2021-05-06T19:20:01.031156Z",
     "start_time": "2021-05-06T19:20:01.019161Z"
    }
   },
   "outputs": [],
   "source": [
    "for i, j in enumerate(np.round(total_results.mean(axis=-1), 1).argmin(axis=0)):\n",
    "    R.iloc[j, i] = '\\\\textbf{' + R.iloc[j, i] + \"}\""
   ]
  },
  {
   "cell_type": "code",
   "execution_count": 16,
   "id": "da788f8d",
   "metadata": {
    "ExecuteTime": {
     "end_time": "2021-05-06T19:20:01.061153Z",
     "start_time": "2021-05-06T19:20:01.034154Z"
    }
   },
   "outputs": [
    {
     "data": {
      "text/html": [
       "<div>\n",
       "<style scoped>\n",
       "    .dataframe tbody tr th:only-of-type {\n",
       "        vertical-align: middle;\n",
       "    }\n",
       "\n",
       "    .dataframe tbody tr th {\n",
       "        vertical-align: top;\n",
       "    }\n",
       "\n",
       "    .dataframe thead th {\n",
       "        text-align: right;\n",
       "    }\n",
       "</style>\n",
       "<table border=\"1\" class=\"dataframe\">\n",
       "  <thead>\n",
       "    <tr style=\"text-align: right;\">\n",
       "      <th></th>\n",
       "      <th>5</th>\n",
       "      <th>10</th>\n",
       "      <th>20</th>\n",
       "      <th>30</th>\n",
       "      <th>40</th>\n",
       "      <th>50</th>\n",
       "    </tr>\n",
       "  </thead>\n",
       "  <tbody>\n",
       "    <tr>\n",
       "      <th>Numpy 1</th>\n",
       "      <td>1.7 ± 0.1</td>\n",
       "      <td>4.6 ± 0.1</td>\n",
       "      <td>30.9 ± 0.9</td>\n",
       "      <td>138.2 ± 2.1</td>\n",
       "      <td>119.5 ± 1.8</td>\n",
       "      <td>290.5 ± 10.1</td>\n",
       "    </tr>\n",
       "    <tr>\n",
       "      <th>Numpy 2</th>\n",
       "      <td>1.7 ± 0.0</td>\n",
       "      <td>4.7 ± 0.2</td>\n",
       "      <td>30.1 ± 0.5</td>\n",
       "      <td>139.2 ± 3.5</td>\n",
       "      <td>117.0 ± 2.8</td>\n",
       "      <td>290.8 ± 4.5</td>\n",
       "    </tr>\n",
       "    <tr>\n",
       "      <th>Numpy 3</th>\n",
       "      <td>2.2 ± 0.1</td>\n",
       "      <td>5.4 ± 0.3</td>\n",
       "      <td>32.0 ± 1.3</td>\n",
       "      <td>132.5 ± 2.5</td>\n",
       "      <td>113.5 ± 3.9</td>\n",
       "      <td>262.3 ± 6.9</td>\n",
       "    </tr>\n",
       "    <tr>\n",
       "      <th>Numba JIT</th>\n",
       "      <td>0.2 ± 0.0</td>\n",
       "      <td>0.6 ± 0.0</td>\n",
       "      <td>4.2 ± 0.1</td>\n",
       "      <td>24.8 ± 0.5</td>\n",
       "      <td>27.3 ± 0.3</td>\n",
       "      <td>83.4 ± 1.0</td>\n",
       "    </tr>\n",
       "    <tr>\n",
       "      <th>Numbda JIT с доп. пар.</th>\n",
       "      <td>0.2 ± 0.0</td>\n",
       "      <td>0.6 ± 0.0</td>\n",
       "      <td>4.2 ± 0.0</td>\n",
       "      <td>24.0 ± 0.1</td>\n",
       "      <td>26.6 ± 0.2</td>\n",
       "      <td>79.0 ± 1.0</td>\n",
       "    </tr>\n",
       "    <tr>\n",
       "      <th>Numba guvectorize</th>\n",
       "      <td>0.2 ± 0.0</td>\n",
       "      <td>0.5 ± 0.0</td>\n",
       "      <td>4.2 ± 0.1</td>\n",
       "      <td>24.7 ± 0.2</td>\n",
       "      <td>\\textbf{26.3 ± 0.4}</td>\n",
       "      <td>\\textbf{78.4 ± 0.5}</td>\n",
       "    </tr>\n",
       "    <tr>\n",
       "      <th>C++</th>\n",
       "      <td>\\textbf{0.1 ± 0.0}</td>\n",
       "      <td>\\textbf{0.3 ± 0.0}</td>\n",
       "      <td>\\textbf{3.1 ± 0.1}</td>\n",
       "      <td>\\textbf{21.5 ± 0.2}</td>\n",
       "      <td>30.3 ± 0.9</td>\n",
       "      <td>87.8 ± 0.5</td>\n",
       "    </tr>\n",
       "  </tbody>\n",
       "</table>\n",
       "</div>"
      ],
      "text/plain": [
       "                                        5                   10  \\\n",
       "Numpy 1                          1.7 ± 0.1           4.6 ± 0.1   \n",
       "Numpy 2                          1.7 ± 0.0           4.7 ± 0.2   \n",
       "Numpy 3                          2.2 ± 0.1           5.4 ± 0.3   \n",
       "Numba JIT                        0.2 ± 0.0           0.6 ± 0.0   \n",
       "Numbda JIT с доп. пар.           0.2 ± 0.0           0.6 ± 0.0   \n",
       "Numba guvectorize                0.2 ± 0.0           0.5 ± 0.0   \n",
       "C++                     \\textbf{0.1 ± 0.0}  \\textbf{0.3 ± 0.0}   \n",
       "\n",
       "                                        20                   30  \\\n",
       "Numpy 1                         30.9 ± 0.9          138.2 ± 2.1   \n",
       "Numpy 2                         30.1 ± 0.5          139.2 ± 3.5   \n",
       "Numpy 3                         32.0 ± 1.3          132.5 ± 2.5   \n",
       "Numba JIT                        4.2 ± 0.1           24.8 ± 0.5   \n",
       "Numbda JIT с доп. пар.           4.2 ± 0.0           24.0 ± 0.1   \n",
       "Numba guvectorize                4.2 ± 0.1           24.7 ± 0.2   \n",
       "C++                     \\textbf{3.1 ± 0.1}  \\textbf{21.5 ± 0.2}   \n",
       "\n",
       "                                         40                   50  \n",
       "Numpy 1                         119.5 ± 1.8         290.5 ± 10.1  \n",
       "Numpy 2                         117.0 ± 2.8          290.8 ± 4.5  \n",
       "Numpy 3                         113.5 ± 3.9          262.3 ± 6.9  \n",
       "Numba JIT                        27.3 ± 0.3           83.4 ± 1.0  \n",
       "Numbda JIT с доп. пар.           26.6 ± 0.2           79.0 ± 1.0  \n",
       "Numba guvectorize       \\textbf{26.3 ± 0.4}  \\textbf{78.4 ± 0.5}  \n",
       "C++                              30.3 ± 0.9           87.8 ± 0.5  "
      ]
     },
     "execution_count": 16,
     "metadata": {},
     "output_type": "execute_result"
    }
   ],
   "source": [
    "R"
   ]
  },
  {
   "cell_type": "code",
   "execution_count": 18,
   "id": "688c2b87",
   "metadata": {
    "ExecuteTime": {
     "end_time": "2021-05-06T19:20:23.466762Z",
     "start_time": "2021-05-06T19:20:23.438094Z"
    }
   },
   "outputs": [],
   "source": [
    "R[np.arange(10, 60, 10)].reset_index().to_csv(\"../report/tables/results.csv\", sep=';', index=False)"
   ]
  },
  {
   "cell_type": "code",
   "execution_count": null,
   "id": "42c5513a",
   "metadata": {},
   "outputs": [],
   "source": []
  }
 ],
 "metadata": {
  "kernelspec": {
   "display_name": "Python 3",
   "language": "python",
   "name": "python3"
  },
  "language_info": {
   "codemirror_mode": {
    "name": "ipython",
    "version": 3
   },
   "file_extension": ".py",
   "mimetype": "text/x-python",
   "name": "python",
   "nbconvert_exporter": "python",
   "pygments_lexer": "ipython3",
   "version": "3.8.10"
  }
 },
 "nbformat": 4,
 "nbformat_minor": 5
}
