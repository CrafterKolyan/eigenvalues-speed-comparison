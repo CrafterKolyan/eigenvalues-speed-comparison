{
 "cells": [
  {
   "cell_type": "code",
   "execution_count": 1,
   "id": "fe9a570b",
   "metadata": {
    "ExecuteTime": {
     "end_time": "2021-05-06T17:25:12.100970Z",
     "start_time": "2021-05-06T17:25:02.470948Z"
    },
    "scrolled": true
   },
   "outputs": [
    {
     "data": {
      "application/vnd.jupyter.widget-view+json": {
       "model_id": "70bc57001fbe4073b8b9d813b6e27151",
       "version_major": 2,
       "version_minor": 0
      },
      "text/plain": [
       "Checking correctness:   0%|          | 0/10 [00:00<?, ?it/s]"
      ]
     },
     "metadata": {},
     "output_type": "display_data"
    },
    {
     "data": {
      "text/plain": [
       "[0.0004407746141215106,\n",
       " 0.0004099273891625616,\n",
       " 0.00040613379310344813,\n",
       " 0.0004283136288998355,\n",
       " 0.00040757142857142864,\n",
       " 0.00041658292282430203,\n",
       " 0.0004378585878489328]"
      ]
     },
     "execution_count": 1,
     "metadata": {},
     "output_type": "execute_result"
    }
   ],
   "source": [
    "import numpy as np\n",
    "import timeit\n",
    "from tqdm.auto import tqdm\n",
    "import pandas as pd\n",
    "\n",
    "def check_correctness(eigvals_func, A, rtol=1e-2, atol=1e-3):\n",
    "    assert np.allclose(sorted(np.linalg.eigvals(A)), sorted(eigvals_func(A)), rtol=rtol, atol=atol)\n",
    "\n",
    "def make_experiment(eigvals_func, N=50, random_seed=0, correctness_tests=10, rtol=1e-2, atol=1e-3, estimated_time=10, retries=7):\n",
    "    np.random.seed(random_seed)\n",
    "    for _ in tqdm(range(correctness_tests), desc=\"Checking correctness\"):\n",
    "        A = np.random.randn(N, N)\n",
    "        A = A.dot(A.T)\n",
    "        check_correctness(eigvals_func, A, rtol=rtol, atol=atol)\n",
    "    \n",
    "    variables = {'eigvals_func': eigvals_func, 'A': A}\n",
    "    single_execution = timeit.timeit(stmt=\"eigvals_func(A)\", globals=variables, number=1)\n",
    "    number = max(int(np.floor(estimated_time / single_execution / retries)), 1)\n",
    "    times = [\n",
    "        timeit.timeit(stmt=\"eigvals_func(A)\", globals=variables, number=number) / number for _ in range(retries)\n",
    "    ]\n",
    "    return times\n",
    "\n",
    "make_experiment(np.linalg.eigvals)"
   ]
  },
  {
   "cell_type": "code",
   "execution_count": 2,
   "id": "f8e6f0fa",
   "metadata": {
    "ExecuteTime": {
     "end_time": "2021-05-06T17:25:12.115625Z",
     "start_time": "2021-05-06T17:25:12.102972Z"
    }
   },
   "outputs": [],
   "source": [
    "n_values = [5, 10, 20, 30, 40, 50]\n",
    "results = []"
   ]
  },
  {
   "cell_type": "markdown",
   "id": "5dcbb065",
   "metadata": {},
   "source": [
    "## Базовая имплементация на Numpy"
   ]
  },
  {
   "cell_type": "code",
   "execution_count": 3,
   "id": "894c36f6",
   "metadata": {
    "ExecuteTime": {
     "end_time": "2021-05-06T17:26:08.777775Z",
     "start_time": "2021-05-06T17:25:12.121624Z"
    }
   },
   "outputs": [
    {
     "data": {
      "application/vnd.jupyter.widget-view+json": {
       "model_id": "d5391cbf1a5c4189b8c3aa6f7f06d273",
       "version_major": 2,
       "version_minor": 0
      },
      "text/plain": [
       "Checking correctness:   0%|          | 0/10 [00:00<?, ?it/s]"
      ]
     },
     "metadata": {},
     "output_type": "display_data"
    },
    {
     "data": {
      "application/vnd.jupyter.widget-view+json": {
       "model_id": "489c799693e94d5e9f30b19165ad703f",
       "version_major": 2,
       "version_minor": 0
      },
      "text/plain": [
       "Checking correctness:   0%|          | 0/10 [00:00<?, ?it/s]"
      ]
     },
     "metadata": {},
     "output_type": "display_data"
    },
    {
     "data": {
      "application/vnd.jupyter.widget-view+json": {
       "model_id": "266e40acde9a491496c11ce4a87f447e",
       "version_major": 2,
       "version_minor": 0
      },
      "text/plain": [
       "Checking correctness:   0%|          | 0/10 [00:00<?, ?it/s]"
      ]
     },
     "metadata": {},
     "output_type": "display_data"
    },
    {
     "data": {
      "application/vnd.jupyter.widget-view+json": {
       "model_id": "834e45a5a43543a0b1ab0f931fee07ce",
       "version_major": 2,
       "version_minor": 0
      },
      "text/plain": [
       "Checking correctness:   0%|          | 0/10 [00:00<?, ?it/s]"
      ]
     },
     "metadata": {},
     "output_type": "display_data"
    },
    {
     "data": {
      "application/vnd.jupyter.widget-view+json": {
       "model_id": "4e7430c7587643f5bc63865a9addfb1d",
       "version_major": 2,
       "version_minor": 0
      },
      "text/plain": [
       "Checking correctness:   0%|          | 0/10 [00:00<?, ?it/s]"
      ]
     },
     "metadata": {},
     "output_type": "display_data"
    },
    {
     "data": {
      "application/vnd.jupyter.widget-view+json": {
       "model_id": "8043001b07cc41a9b41e5143e1ba45c2",
       "version_major": 2,
       "version_minor": 0
      },
      "text/plain": [
       "Checking correctness:   0%|          | 0/10 [00:00<?, ?it/s]"
      ]
     },
     "metadata": {},
     "output_type": "display_data"
    }
   ],
   "source": [
    "def qr(A):\n",
    "    Q = A.copy()\n",
    "    Q[:, 0] /= np.linalg.norm(Q[:, 0])\n",
    "    for i in range(1, A.shape[0]):\n",
    "        Q[:, i] -= Q[:, :i].dot(Q[:, :i].T).dot(Q[:, i])\n",
    "        Q[:, i] /= np.linalg.norm(Q[:, i])\n",
    "    R = Q.T.dot(A)\n",
    "    return Q, R\n",
    "\n",
    "def eigenvalues(A, rtol=1e-6, atol=1e-8):\n",
    "    squared_A = np.square(A)\n",
    "    while squared_A.sum() - np.diag(squared_A).sum() >= rtol * squared_A.sum() + atol:\n",
    "        Q, R = qr(A)\n",
    "        A = R.dot(Q)\n",
    "        squared_A = np.square(A)\n",
    "    return np.diag(A)\n",
    "\n",
    "for n in n_values:\n",
    "    result = make_experiment(eigenvalues, N=n)\n",
    "    results.append(result)"
   ]
  },
  {
   "cell_type": "markdown",
   "id": "cf8235c1",
   "metadata": {},
   "source": [
    "## Попытка ускорения итерации на Numpy"
   ]
  },
  {
   "cell_type": "code",
   "execution_count": 4,
   "id": "7db3ac15",
   "metadata": {
    "ExecuteTime": {
     "end_time": "2021-05-06T17:26:59.130204Z",
     "start_time": "2021-05-06T17:26:08.779778Z"
    }
   },
   "outputs": [
    {
     "data": {
      "application/vnd.jupyter.widget-view+json": {
       "model_id": "1607dcff75844a3b951c6d9819d44d47",
       "version_major": 2,
       "version_minor": 0
      },
      "text/plain": [
       "Checking correctness:   0%|          | 0/10 [00:00<?, ?it/s]"
      ]
     },
     "metadata": {},
     "output_type": "display_data"
    },
    {
     "data": {
      "application/vnd.jupyter.widget-view+json": {
       "model_id": "e4974d4496c3490d992f7d2df71aef46",
       "version_major": 2,
       "version_minor": 0
      },
      "text/plain": [
       "Checking correctness:   0%|          | 0/10 [00:00<?, ?it/s]"
      ]
     },
     "metadata": {},
     "output_type": "display_data"
    },
    {
     "data": {
      "application/vnd.jupyter.widget-view+json": {
       "model_id": "95773c6560f04e458d96501d4b1e2425",
       "version_major": 2,
       "version_minor": 0
      },
      "text/plain": [
       "Checking correctness:   0%|          | 0/10 [00:00<?, ?it/s]"
      ]
     },
     "metadata": {},
     "output_type": "display_data"
    },
    {
     "data": {
      "application/vnd.jupyter.widget-view+json": {
       "model_id": "7a864b43bd8d42a989c0dc9c538e3057",
       "version_major": 2,
       "version_minor": 0
      },
      "text/plain": [
       "Checking correctness:   0%|          | 0/10 [00:00<?, ?it/s]"
      ]
     },
     "metadata": {},
     "output_type": "display_data"
    },
    {
     "data": {
      "application/vnd.jupyter.widget-view+json": {
       "model_id": "32fb317284504f1990aec0c56475af16",
       "version_major": 2,
       "version_minor": 0
      },
      "text/plain": [
       "Checking correctness:   0%|          | 0/10 [00:00<?, ?it/s]"
      ]
     },
     "metadata": {},
     "output_type": "display_data"
    },
    {
     "data": {
      "application/vnd.jupyter.widget-view+json": {
       "model_id": "9d4fb3c550354c28a3259b624cae147e",
       "version_major": 2,
       "version_minor": 0
      },
      "text/plain": [
       "Checking correctness:   0%|          | 0/10 [00:00<?, ?it/s]"
      ]
     },
     "metadata": {},
     "output_type": "display_data"
    }
   ],
   "source": [
    "def make_iteration(A):\n",
    "    Q = A.copy()\n",
    "    Q[:, 0] /= np.linalg.norm(Q[:, 0])\n",
    "    for i in range(1, A.shape[0]):\n",
    "        Q[:, i] -= Q[:, :i].dot(Q[:, :i].T).dot(Q[:, i])\n",
    "        Q[:, i] /= np.linalg.norm(Q[:, i])\n",
    "    return Q.T.dot(A).dot(Q)\n",
    "\n",
    "def eigenvalues(A, rtol=1e-6, atol=1e-8):\n",
    "    squared_A = np.square(A)\n",
    "    while squared_A.sum() - np.diag(squared_A).sum() >= rtol * squared_A.sum() + atol:\n",
    "        A = make_iteration(A)\n",
    "        squared_A = np.square(A)\n",
    "    return np.diag(A)\n",
    "\n",
    "for n in n_values:\n",
    "    result = make_experiment(eigenvalues, N=n)\n",
    "    results.append(result)"
   ]
  },
  {
   "cell_type": "markdown",
   "id": "97275005",
   "metadata": {},
   "source": [
    "## Оптимизация вычисления функции на Numpy за счёт кэширования результатов"
   ]
  },
  {
   "cell_type": "code",
   "execution_count": 5,
   "id": "d5ea03c8",
   "metadata": {
    "ExecuteTime": {
     "end_time": "2021-05-06T17:27:50.873520Z",
     "start_time": "2021-05-06T17:26:59.132204Z"
    }
   },
   "outputs": [
    {
     "data": {
      "application/vnd.jupyter.widget-view+json": {
       "model_id": "2ec87d97aa5848b2b50ecf4297c0875b",
       "version_major": 2,
       "version_minor": 0
      },
      "text/plain": [
       "Checking correctness:   0%|          | 0/10 [00:00<?, ?it/s]"
      ]
     },
     "metadata": {},
     "output_type": "display_data"
    },
    {
     "data": {
      "application/vnd.jupyter.widget-view+json": {
       "model_id": "e347ce26c0004feda59f0ab5d7bf1d25",
       "version_major": 2,
       "version_minor": 0
      },
      "text/plain": [
       "Checking correctness:   0%|          | 0/10 [00:00<?, ?it/s]"
      ]
     },
     "metadata": {},
     "output_type": "display_data"
    },
    {
     "data": {
      "application/vnd.jupyter.widget-view+json": {
       "model_id": "703406c509f74fe3b8d25f86bdb8b7f3",
       "version_major": 2,
       "version_minor": 0
      },
      "text/plain": [
       "Checking correctness:   0%|          | 0/10 [00:00<?, ?it/s]"
      ]
     },
     "metadata": {},
     "output_type": "display_data"
    },
    {
     "data": {
      "application/vnd.jupyter.widget-view+json": {
       "model_id": "df3f09c4842c4504a5730df27ff92089",
       "version_major": 2,
       "version_minor": 0
      },
      "text/plain": [
       "Checking correctness:   0%|          | 0/10 [00:00<?, ?it/s]"
      ]
     },
     "metadata": {},
     "output_type": "display_data"
    },
    {
     "data": {
      "application/vnd.jupyter.widget-view+json": {
       "model_id": "da9820ab59034e8688fe2f129646b187",
       "version_major": 2,
       "version_minor": 0
      },
      "text/plain": [
       "Checking correctness:   0%|          | 0/10 [00:00<?, ?it/s]"
      ]
     },
     "metadata": {},
     "output_type": "display_data"
    },
    {
     "data": {
      "application/vnd.jupyter.widget-view+json": {
       "model_id": "242745e0391e4415898ee7002b36e559",
       "version_major": 2,
       "version_minor": 0
      },
      "text/plain": [
       "Checking correctness:   0%|          | 0/10 [00:00<?, ?it/s]"
      ]
     },
     "metadata": {},
     "output_type": "display_data"
    }
   ],
   "source": [
    "def make_iteration(A):\n",
    "    Q = A.T.copy()\n",
    "    saved_Q = np.zeros_like(A)\n",
    "    for i in range(A.shape[0]):\n",
    "        Q[i] -= saved_Q.dot(Q[i])\n",
    "        Q[i] /= np.linalg.norm(Q[i])\n",
    "        saved_Q += np.outer(Q[i], Q[i])\n",
    "    return np.linalg.multi_dot([Q, A, Q.T])\n",
    "\n",
    "def eigenvalues(A, rtol=1e-6, atol=1e-8):\n",
    "    squared_A = np.square(A)\n",
    "    while squared_A.sum() - np.diag(squared_A).sum() >= rtol * squared_A.sum() + atol:\n",
    "        A = make_iteration(A)\n",
    "        squared_A = np.square(A)\n",
    "    return np.diag(A)\n",
    "\n",
    "for n in n_values:\n",
    "    result = make_experiment(eigenvalues, N=n)\n",
    "    results.append(result)"
   ]
  },
  {
   "cell_type": "markdown",
   "id": "024593da",
   "metadata": {},
   "source": [
    "## Numba JIT"
   ]
  },
  {
   "cell_type": "code",
   "execution_count": 6,
   "id": "74996996",
   "metadata": {
    "ExecuteTime": {
     "end_time": "2021-05-06T17:28:52.606253Z",
     "start_time": "2021-05-06T17:27:50.875523Z"
    }
   },
   "outputs": [
    {
     "data": {
      "application/vnd.jupyter.widget-view+json": {
       "model_id": "76cce83059034164a55fb8778e69a607",
       "version_major": 2,
       "version_minor": 0
      },
      "text/plain": [
       "Checking correctness:   0%|          | 0/10 [00:00<?, ?it/s]"
      ]
     },
     "metadata": {},
     "output_type": "display_data"
    },
    {
     "data": {
      "application/vnd.jupyter.widget-view+json": {
       "model_id": "1667c788f410430b8f3bf4f1af7f589b",
       "version_major": 2,
       "version_minor": 0
      },
      "text/plain": [
       "Checking correctness:   0%|          | 0/10 [00:00<?, ?it/s]"
      ]
     },
     "metadata": {},
     "output_type": "display_data"
    },
    {
     "data": {
      "application/vnd.jupyter.widget-view+json": {
       "model_id": "4476e866468c43a3b314ce89eeb3233b",
       "version_major": 2,
       "version_minor": 0
      },
      "text/plain": [
       "Checking correctness:   0%|          | 0/10 [00:00<?, ?it/s]"
      ]
     },
     "metadata": {},
     "output_type": "display_data"
    },
    {
     "data": {
      "application/vnd.jupyter.widget-view+json": {
       "model_id": "8cc16294969941278784a1df1e795dcf",
       "version_major": 2,
       "version_minor": 0
      },
      "text/plain": [
       "Checking correctness:   0%|          | 0/10 [00:00<?, ?it/s]"
      ]
     },
     "metadata": {},
     "output_type": "display_data"
    },
    {
     "data": {
      "application/vnd.jupyter.widget-view+json": {
       "model_id": "343bc5d863a64df8b4dff1d3e39c128d",
       "version_major": 2,
       "version_minor": 0
      },
      "text/plain": [
       "Checking correctness:   0%|          | 0/10 [00:00<?, ?it/s]"
      ]
     },
     "metadata": {},
     "output_type": "display_data"
    },
    {
     "data": {
      "application/vnd.jupyter.widget-view+json": {
       "model_id": "2820eef22248424f88d75a613ab416a6",
       "version_major": 2,
       "version_minor": 0
      },
      "text/plain": [
       "Checking correctness:   0%|          | 0/10 [00:00<?, ?it/s]"
      ]
     },
     "metadata": {},
     "output_type": "display_data"
    }
   ],
   "source": [
    "from numba import jit\n",
    "\n",
    "@jit(nopython=True)\n",
    "def make_iteration(A):\n",
    "    Q = A.T.copy()\n",
    "    saved_Q = np.zeros_like(A)\n",
    "    for i in range(A.shape[0]):\n",
    "        Q[i] -= saved_Q.dot(Q[i])\n",
    "        Q[i] /= np.linalg.norm(Q[i])\n",
    "        saved_Q += np.outer(Q[i], Q[i])\n",
    "    return Q.dot(A).dot(Q.T)\n",
    "\n",
    "@jit(nopython=True)\n",
    "def eigenvalues(A, rtol=1e-6, atol=1e-8):\n",
    "    squared_A = np.square(A)\n",
    "    while squared_A.sum() - np.diag(squared_A).sum() >= rtol * squared_A.sum() + atol:\n",
    "        A = make_iteration(A)\n",
    "        squared_A = np.square(A)\n",
    "    return np.diag(A)\n",
    "\n",
    "for n in n_values:\n",
    "    result = make_experiment(eigenvalues, N=n)\n",
    "    results.append(result)"
   ]
  },
  {
   "cell_type": "markdown",
   "id": "6e7b33fb",
   "metadata": {},
   "source": [
    "## Numba JIT с дополнительными параметрами"
   ]
  },
  {
   "cell_type": "code",
   "execution_count": 7,
   "id": "535a1dfd",
   "metadata": {
    "ExecuteTime": {
     "end_time": "2021-05-06T17:29:50.289092Z",
     "start_time": "2021-05-06T17:28:52.608257Z"
    }
   },
   "outputs": [
    {
     "data": {
      "application/vnd.jupyter.widget-view+json": {
       "model_id": "574aa1e8dc934747b9f5b7fa9d46a7db",
       "version_major": 2,
       "version_minor": 0
      },
      "text/plain": [
       "Checking correctness:   0%|          | 0/10 [00:00<?, ?it/s]"
      ]
     },
     "metadata": {},
     "output_type": "display_data"
    },
    {
     "data": {
      "application/vnd.jupyter.widget-view+json": {
       "model_id": "cf2bed4b9de84b428ad418cfc35f7b51",
       "version_major": 2,
       "version_minor": 0
      },
      "text/plain": [
       "Checking correctness:   0%|          | 0/10 [00:00<?, ?it/s]"
      ]
     },
     "metadata": {},
     "output_type": "display_data"
    },
    {
     "data": {
      "application/vnd.jupyter.widget-view+json": {
       "model_id": "ec2ce67ed6264f27ab0cd564d1fdb076",
       "version_major": 2,
       "version_minor": 0
      },
      "text/plain": [
       "Checking correctness:   0%|          | 0/10 [00:00<?, ?it/s]"
      ]
     },
     "metadata": {},
     "output_type": "display_data"
    },
    {
     "data": {
      "application/vnd.jupyter.widget-view+json": {
       "model_id": "4958cbad70eb4bdc95ec83ec1f151331",
       "version_major": 2,
       "version_minor": 0
      },
      "text/plain": [
       "Checking correctness:   0%|          | 0/10 [00:00<?, ?it/s]"
      ]
     },
     "metadata": {},
     "output_type": "display_data"
    },
    {
     "data": {
      "application/vnd.jupyter.widget-view+json": {
       "model_id": "194bffa3dc104d6c9194a48c0920665c",
       "version_major": 2,
       "version_minor": 0
      },
      "text/plain": [
       "Checking correctness:   0%|          | 0/10 [00:00<?, ?it/s]"
      ]
     },
     "metadata": {},
     "output_type": "display_data"
    },
    {
     "data": {
      "application/vnd.jupyter.widget-view+json": {
       "model_id": "e576185085b846568a9e7feec34dd1ce",
       "version_major": 2,
       "version_minor": 0
      },
      "text/plain": [
       "Checking correctness:   0%|          | 0/10 [00:00<?, ?it/s]"
      ]
     },
     "metadata": {},
     "output_type": "display_data"
    }
   ],
   "source": [
    "from numba import jit\n",
    "\n",
    "@jit(nopython=True, nogil=True, fastmath=True, cache=True)\n",
    "def make_iteration(A):\n",
    "    Q = A.T.copy()\n",
    "    saved_Q = np.zeros_like(A)\n",
    "    for i in range(A.shape[0]):\n",
    "        Q[i] -= saved_Q.dot(Q[i])\n",
    "        Q[i] /= np.linalg.norm(Q[i])\n",
    "        saved_Q += np.outer(Q[i], Q[i])\n",
    "    return Q.dot(A).dot(Q.T)\n",
    "\n",
    "@jit(nopython=True, nogil=True, fastmath=True, cache=True)\n",
    "def eigenvalues(A, rtol=1e-6, atol=1e-8):\n",
    "    squared_A = np.square(A)\n",
    "    while squared_A.sum() - np.diag(squared_A).sum() >= rtol * squared_A.sum() + atol:\n",
    "        A = make_iteration(A)\n",
    "        squared_A = np.square(A)\n",
    "    return np.diag(A)\n",
    "\n",
    "for n in n_values:\n",
    "    result = make_experiment(eigenvalues, N=n)\n",
    "    results.append(result)"
   ]
  },
  {
   "cell_type": "markdown",
   "id": "78c1f56c",
   "metadata": {},
   "source": [
    "## Numba guvectorize"
   ]
  },
  {
   "cell_type": "code",
   "execution_count": 8,
   "id": "270f411d",
   "metadata": {
    "ExecuteTime": {
     "end_time": "2021-05-06T17:30:45.945877Z",
     "start_time": "2021-05-06T17:29:50.293093Z"
    }
   },
   "outputs": [
    {
     "data": {
      "application/vnd.jupyter.widget-view+json": {
       "model_id": "24d22fac28d24a72813d856aa16fe27e",
       "version_major": 2,
       "version_minor": 0
      },
      "text/plain": [
       "Checking correctness:   0%|          | 0/10 [00:00<?, ?it/s]"
      ]
     },
     "metadata": {},
     "output_type": "display_data"
    },
    {
     "data": {
      "application/vnd.jupyter.widget-view+json": {
       "model_id": "476a0d49ba884f67ab728873b595906c",
       "version_major": 2,
       "version_minor": 0
      },
      "text/plain": [
       "Checking correctness:   0%|          | 0/10 [00:00<?, ?it/s]"
      ]
     },
     "metadata": {},
     "output_type": "display_data"
    },
    {
     "data": {
      "application/vnd.jupyter.widget-view+json": {
       "model_id": "17bf3c67fa7e4a5cb9f34293ffe98e15",
       "version_major": 2,
       "version_minor": 0
      },
      "text/plain": [
       "Checking correctness:   0%|          | 0/10 [00:00<?, ?it/s]"
      ]
     },
     "metadata": {},
     "output_type": "display_data"
    },
    {
     "data": {
      "application/vnd.jupyter.widget-view+json": {
       "model_id": "1b15b2971bd64eeb83d519efb3daf633",
       "version_major": 2,
       "version_minor": 0
      },
      "text/plain": [
       "Checking correctness:   0%|          | 0/10 [00:00<?, ?it/s]"
      ]
     },
     "metadata": {},
     "output_type": "display_data"
    },
    {
     "data": {
      "application/vnd.jupyter.widget-view+json": {
       "model_id": "ff13090ec6a14c3585cdeaade73d2863",
       "version_major": 2,
       "version_minor": 0
      },
      "text/plain": [
       "Checking correctness:   0%|          | 0/10 [00:00<?, ?it/s]"
      ]
     },
     "metadata": {},
     "output_type": "display_data"
    },
    {
     "data": {
      "application/vnd.jupyter.widget-view+json": {
       "model_id": "67e13980aba5404a8382c7e45985ee9a",
       "version_major": 2,
       "version_minor": 0
      },
      "text/plain": [
       "Checking correctness:   0%|          | 0/10 [00:00<?, ?it/s]"
      ]
     },
     "metadata": {},
     "output_type": "display_data"
    }
   ],
   "source": [
    "from numba import guvectorize, float64\n",
    "\n",
    "@guvectorize([\"void(float64[:, ::1], float64, float64, float64[::1])\"], \"(n,n), (), () -> (n)\", nopython=True, target='cpu')\n",
    "def eigenvalues(A, rtol=1e-6, atol=1e-8, out=None):\n",
    "    squared_A = A * A\n",
    "    while squared_A.sum() - np.diag(squared_A).sum() >= rtol * squared_A.sum() + atol:\n",
    "        Q = A.T.copy()\n",
    "        Q[0] /= np.linalg.norm(Q[0])\n",
    "        saved_Q = np.zeros_like(A)\n",
    "        for i in range(A.shape[0]):\n",
    "            Q[i] -= saved_Q.dot(Q[i])\n",
    "            Q[i] /= np.linalg.norm(Q[i])\n",
    "            saved_Q += np.outer(Q[i], Q[i])\n",
    "        A = Q.dot(A).dot(Q.T)\n",
    "        \n",
    "        squared_A = A * A\n",
    "    out[:] = np.diag(A)\n",
    "\n",
    "def eigenvalues_wrapper(A, rtol=1e-6, atol=1e-8):\n",
    "    result = np.empty(A.shape[0], dtype=float)\n",
    "    eigenvalues(A, rtol, atol, result)\n",
    "    return result\n",
    "\n",
    "for n in n_values:\n",
    "    result = make_experiment(eigenvalues_wrapper, N=n)\n",
    "    results.append(result)"
   ]
  },
  {
   "cell_type": "code",
   "execution_count": null,
   "id": "3e9a5e6f",
   "metadata": {},
   "outputs": [],
   "source": []
  },
  {
   "cell_type": "code",
   "execution_count": 19,
   "id": "82b5bb6e",
   "metadata": {
    "ExecuteTime": {
     "end_time": "2021-05-06T17:40:00.440904Z",
     "start_time": "2021-05-06T17:40:00.423905Z"
    }
   },
   "outputs": [],
   "source": [
    "names = ['Numpy 1', 'Numpy 2', 'Numpy 3', 'Numba JIT', 'Numbda JIT с доп. пар.', 'Numba guvectorize']"
   ]
  },
  {
   "cell_type": "code",
   "execution_count": 20,
   "id": "116c2fce",
   "metadata": {
    "ExecuteTime": {
     "end_time": "2021-05-06T17:40:00.620905Z",
     "start_time": "2021-05-06T17:40:00.614902Z"
    }
   },
   "outputs": [],
   "source": [
    "total_results = np.array(results).reshape(len(names), len(n_values), -1) * 1000"
   ]
  },
  {
   "cell_type": "code",
   "execution_count": 45,
   "id": "b5f71922",
   "metadata": {
    "ExecuteTime": {
     "end_time": "2021-05-06T17:45:12.606784Z",
     "start_time": "2021-05-06T17:45:12.596246Z"
    }
   },
   "outputs": [],
   "source": [
    "R = pd.DataFrame(np.core.defchararray.add(np.core.defchararray.add(np.round(total_results.mean(axis=-1), 1).astype(str), \" ± \"), np.round(total_results.std(axis=-1), 1).astype(str)), index=names, columns=n_values)"
   ]
  },
  {
   "cell_type": "code",
   "execution_count": 46,
   "id": "e19ae764",
   "metadata": {
    "ExecuteTime": {
     "end_time": "2021-05-06T17:45:12.787237Z",
     "start_time": "2021-05-06T17:45:12.768238Z"
    }
   },
   "outputs": [
    {
     "data": {
      "text/html": [
       "<div>\n",
       "<style scoped>\n",
       "    .dataframe tbody tr th:only-of-type {\n",
       "        vertical-align: middle;\n",
       "    }\n",
       "\n",
       "    .dataframe tbody tr th {\n",
       "        vertical-align: top;\n",
       "    }\n",
       "\n",
       "    .dataframe thead th {\n",
       "        text-align: right;\n",
       "    }\n",
       "</style>\n",
       "<table border=\"1\" class=\"dataframe\">\n",
       "  <thead>\n",
       "    <tr style=\"text-align: right;\">\n",
       "      <th></th>\n",
       "      <th>5</th>\n",
       "      <th>10</th>\n",
       "      <th>20</th>\n",
       "      <th>30</th>\n",
       "      <th>40</th>\n",
       "      <th>50</th>\n",
       "    </tr>\n",
       "  </thead>\n",
       "  <tbody>\n",
       "    <tr>\n",
       "      <th>Numpy 1</th>\n",
       "      <td>1.7 ± 0.0</td>\n",
       "      <td>4.9 ± 0.1</td>\n",
       "      <td>32.6 ± 1.1</td>\n",
       "      <td>145.2 ± 2.1</td>\n",
       "      <td>122.0 ± 1.7</td>\n",
       "      <td>298.5 ± 5.3</td>\n",
       "    </tr>\n",
       "    <tr>\n",
       "      <th>Numpy 2</th>\n",
       "      <td>1.7 ± 0.0</td>\n",
       "      <td>4.9 ± 0.2</td>\n",
       "      <td>32.4 ± 0.6</td>\n",
       "      <td>149.4 ± 5.2</td>\n",
       "      <td>117.0 ± 3.7</td>\n",
       "      <td>291.7 ± 3.3</td>\n",
       "    </tr>\n",
       "    <tr>\n",
       "      <th>Numpy 3</th>\n",
       "      <td>2.2 ± 0.1</td>\n",
       "      <td>5.6 ± 0.2</td>\n",
       "      <td>32.6 ± 0.9</td>\n",
       "      <td>139.9 ± 7.1</td>\n",
       "      <td>112.1 ± 1.7</td>\n",
       "      <td>273.2 ± 11.5</td>\n",
       "    </tr>\n",
       "    <tr>\n",
       "      <th>Numba JIT</th>\n",
       "      <td>0.3 ± 0.0</td>\n",
       "      <td>0.6 ± 0.1</td>\n",
       "      <td>4.2 ± 0.1</td>\n",
       "      <td>25.6 ± 0.8</td>\n",
       "      <td>26.8 ± 1.0</td>\n",
       "      <td>77.1 ± 0.7</td>\n",
       "    </tr>\n",
       "    <tr>\n",
       "      <th>Numbda JIT с доп. пар.</th>\n",
       "      <td>0.2 ± 0.0</td>\n",
       "      <td>0.6 ± 0.0</td>\n",
       "      <td>4.3 ± 0.1</td>\n",
       "      <td>24.6 ± 0.2</td>\n",
       "      <td>27.7 ± 2.0</td>\n",
       "      <td>81.1 ± 4.1</td>\n",
       "    </tr>\n",
       "    <tr>\n",
       "      <th>Numba guvectorize</th>\n",
       "      <td>0.2 ± 0.0</td>\n",
       "      <td>0.5 ± 0.0</td>\n",
       "      <td>4.5 ± 0.2</td>\n",
       "      <td>26.7 ± 0.8</td>\n",
       "      <td>29.1 ± 0.3</td>\n",
       "      <td>88.8 ± 2.7</td>\n",
       "    </tr>\n",
       "  </tbody>\n",
       "</table>\n",
       "</div>"
      ],
      "text/plain": [
       "                               5          10          20           30  \\\n",
       "Numpy 1                 1.7 ± 0.0  4.9 ± 0.1  32.6 ± 1.1  145.2 ± 2.1   \n",
       "Numpy 2                 1.7 ± 0.0  4.9 ± 0.2  32.4 ± 0.6  149.4 ± 5.2   \n",
       "Numpy 3                 2.2 ± 0.1  5.6 ± 0.2  32.6 ± 0.9  139.9 ± 7.1   \n",
       "Numba JIT               0.3 ± 0.0  0.6 ± 0.1   4.2 ± 0.1   25.6 ± 0.8   \n",
       "Numbda JIT с доп. пар.  0.2 ± 0.0  0.6 ± 0.0   4.3 ± 0.1   24.6 ± 0.2   \n",
       "Numba guvectorize       0.2 ± 0.0  0.5 ± 0.0   4.5 ± 0.2   26.7 ± 0.8   \n",
       "\n",
       "                                 40            50  \n",
       "Numpy 1                 122.0 ± 1.7   298.5 ± 5.3  \n",
       "Numpy 2                 117.0 ± 3.7   291.7 ± 3.3  \n",
       "Numpy 3                 112.1 ± 1.7  273.2 ± 11.5  \n",
       "Numba JIT                26.8 ± 1.0    77.1 ± 0.7  \n",
       "Numbda JIT с доп. пар.   27.7 ± 2.0    81.1 ± 4.1  \n",
       "Numba guvectorize        29.1 ± 0.3    88.8 ± 2.7  "
      ]
     },
     "execution_count": 46,
     "metadata": {},
     "output_type": "execute_result"
    }
   ],
   "source": [
    "R"
   ]
  },
  {
   "cell_type": "code",
   "execution_count": 47,
   "id": "09a4c709",
   "metadata": {
    "ExecuteTime": {
     "end_time": "2021-05-06T17:45:12.922238Z",
     "start_time": "2021-05-06T17:45:12.910238Z"
    }
   },
   "outputs": [],
   "source": [
    "for i, j in enumerate(np.round(total_results.mean(axis=-1), 1).argmin(axis=0)):\n",
    "    R.iloc[j, i] = '\\\\textbf{' + R.iloc[j, i] + \"}\""
   ]
  },
  {
   "cell_type": "code",
   "execution_count": 48,
   "id": "cd21e7ab",
   "metadata": {
    "ExecuteTime": {
     "end_time": "2021-05-06T17:45:13.838020Z",
     "start_time": "2021-05-06T17:45:13.817016Z"
    }
   },
   "outputs": [
    {
     "data": {
      "text/html": [
       "<div>\n",
       "<style scoped>\n",
       "    .dataframe tbody tr th:only-of-type {\n",
       "        vertical-align: middle;\n",
       "    }\n",
       "\n",
       "    .dataframe tbody tr th {\n",
       "        vertical-align: top;\n",
       "    }\n",
       "\n",
       "    .dataframe thead th {\n",
       "        text-align: right;\n",
       "    }\n",
       "</style>\n",
       "<table border=\"1\" class=\"dataframe\">\n",
       "  <thead>\n",
       "    <tr style=\"text-align: right;\">\n",
       "      <th></th>\n",
       "      <th>5</th>\n",
       "      <th>10</th>\n",
       "      <th>20</th>\n",
       "      <th>30</th>\n",
       "      <th>40</th>\n",
       "      <th>50</th>\n",
       "    </tr>\n",
       "  </thead>\n",
       "  <tbody>\n",
       "    <tr>\n",
       "      <th>Numpy 1</th>\n",
       "      <td>1.7 ± 0.0</td>\n",
       "      <td>4.9 ± 0.1</td>\n",
       "      <td>32.6 ± 1.1</td>\n",
       "      <td>145.2 ± 2.1</td>\n",
       "      <td>122.0 ± 1.7</td>\n",
       "      <td>298.5 ± 5.3</td>\n",
       "    </tr>\n",
       "    <tr>\n",
       "      <th>Numpy 2</th>\n",
       "      <td>1.7 ± 0.0</td>\n",
       "      <td>4.9 ± 0.2</td>\n",
       "      <td>32.4 ± 0.6</td>\n",
       "      <td>149.4 ± 5.2</td>\n",
       "      <td>117.0 ± 3.7</td>\n",
       "      <td>291.7 ± 3.3</td>\n",
       "    </tr>\n",
       "    <tr>\n",
       "      <th>Numpy 3</th>\n",
       "      <td>2.2 ± 0.1</td>\n",
       "      <td>5.6 ± 0.2</td>\n",
       "      <td>32.6 ± 0.9</td>\n",
       "      <td>139.9 ± 7.1</td>\n",
       "      <td>112.1 ± 1.7</td>\n",
       "      <td>273.2 ± 11.5</td>\n",
       "    </tr>\n",
       "    <tr>\n",
       "      <th>Numba JIT</th>\n",
       "      <td>0.3 ± 0.0</td>\n",
       "      <td>0.6 ± 0.1</td>\n",
       "      <td>\\textbf{4.2 ± 0.1}</td>\n",
       "      <td>25.6 ± 0.8</td>\n",
       "      <td>\\textbf{26.8 ± 1.0}</td>\n",
       "      <td>\\textbf{77.1 ± 0.7}</td>\n",
       "    </tr>\n",
       "    <tr>\n",
       "      <th>Numbda JIT с доп. пар.</th>\n",
       "      <td>\\textbf{0.2 ± 0.0}</td>\n",
       "      <td>0.6 ± 0.0</td>\n",
       "      <td>4.3 ± 0.1</td>\n",
       "      <td>\\textbf{24.6 ± 0.2}</td>\n",
       "      <td>27.7 ± 2.0</td>\n",
       "      <td>81.1 ± 4.1</td>\n",
       "    </tr>\n",
       "    <tr>\n",
       "      <th>Numba guvectorize</th>\n",
       "      <td>0.2 ± 0.0</td>\n",
       "      <td>\\textbf{0.5 ± 0.0}</td>\n",
       "      <td>4.5 ± 0.2</td>\n",
       "      <td>26.7 ± 0.8</td>\n",
       "      <td>29.1 ± 0.3</td>\n",
       "      <td>88.8 ± 2.7</td>\n",
       "    </tr>\n",
       "  </tbody>\n",
       "</table>\n",
       "</div>"
      ],
      "text/plain": [
       "                                        5                   10  \\\n",
       "Numpy 1                          1.7 ± 0.0           4.9 ± 0.1   \n",
       "Numpy 2                          1.7 ± 0.0           4.9 ± 0.2   \n",
       "Numpy 3                          2.2 ± 0.1           5.6 ± 0.2   \n",
       "Numba JIT                        0.3 ± 0.0           0.6 ± 0.1   \n",
       "Numbda JIT с доп. пар.  \\textbf{0.2 ± 0.0}           0.6 ± 0.0   \n",
       "Numba guvectorize                0.2 ± 0.0  \\textbf{0.5 ± 0.0}   \n",
       "\n",
       "                                        20                   30  \\\n",
       "Numpy 1                         32.6 ± 1.1          145.2 ± 2.1   \n",
       "Numpy 2                         32.4 ± 0.6          149.4 ± 5.2   \n",
       "Numpy 3                         32.6 ± 0.9          139.9 ± 7.1   \n",
       "Numba JIT               \\textbf{4.2 ± 0.1}           25.6 ± 0.8   \n",
       "Numbda JIT с доп. пар.           4.3 ± 0.1  \\textbf{24.6 ± 0.2}   \n",
       "Numba guvectorize                4.5 ± 0.2           26.7 ± 0.8   \n",
       "\n",
       "                                         40                   50  \n",
       "Numpy 1                         122.0 ± 1.7          298.5 ± 5.3  \n",
       "Numpy 2                         117.0 ± 3.7          291.7 ± 3.3  \n",
       "Numpy 3                         112.1 ± 1.7         273.2 ± 11.5  \n",
       "Numba JIT               \\textbf{26.8 ± 1.0}  \\textbf{77.1 ± 0.7}  \n",
       "Numbda JIT с доп. пар.           27.7 ± 2.0           81.1 ± 4.1  \n",
       "Numba guvectorize                29.1 ± 0.3           88.8 ± 2.7  "
      ]
     },
     "execution_count": 48,
     "metadata": {},
     "output_type": "execute_result"
    }
   ],
   "source": [
    "R"
   ]
  },
  {
   "cell_type": "code",
   "execution_count": 49,
   "id": "ef22d32a",
   "metadata": {
    "ExecuteTime": {
     "end_time": "2021-05-06T17:45:14.693172Z",
     "start_time": "2021-05-06T17:45:14.686170Z"
    }
   },
   "outputs": [],
   "source": [
    "R[np.arange(10, 60, 10)].reset_index().to_csv(\"../../report/tables/results.csv\", sep=';', index=False)"
   ]
  },
  {
   "cell_type": "code",
   "execution_count": null,
   "id": "b99cf2a5",
   "metadata": {},
   "outputs": [],
   "source": []
  }
 ],
 "metadata": {
  "kernelspec": {
   "display_name": "Python 3",
   "language": "python",
   "name": "python3"
  },
  "language_info": {
   "codemirror_mode": {
    "name": "ipython",
    "version": 3
   },
   "file_extension": ".py",
   "mimetype": "text/x-python",
   "name": "python",
   "nbconvert_exporter": "python",
   "pygments_lexer": "ipython3",
   "version": "3.8.10"
  }
 },
 "nbformat": 4,
 "nbformat_minor": 5
}
