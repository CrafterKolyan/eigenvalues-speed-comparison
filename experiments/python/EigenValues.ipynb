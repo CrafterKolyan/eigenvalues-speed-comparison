{
 "cells": [
  {
   "cell_type": "code",
   "execution_count": 1,
   "id": "8f0bd9bd",
   "metadata": {
    "ExecuteTime": {
     "end_time": "2021-05-05T14:51:00.195312Z",
     "start_time": "2021-05-05T14:50:50.086380Z"
    },
    "scrolled": true
   },
   "outputs": [
    {
     "data": {
      "application/vnd.jupyter.widget-view+json": {
       "model_id": "9e78ad727b774d9b8218ff540532e31c",
       "version_major": 2,
       "version_minor": 0
      },
      "text/plain": [
       "Checking correctness:   0%|          | 0/100 [00:00<?, ?it/s]"
      ]
     },
     "metadata": {},
     "output_type": "display_data"
    },
    {
     "data": {
      "text/plain": [
       "[0.0004223980633802817,\n",
       " 0.0004065346244131457,\n",
       " 0.00040288679577464787,\n",
       " 0.0004134767899061032,\n",
       " 0.0004150199530516434,\n",
       " 0.0004050781396713616,\n",
       " 0.0004089346537558685]"
      ]
     },
     "execution_count": 1,
     "metadata": {},
     "output_type": "execute_result"
    }
   ],
   "source": [
    "import numpy as np\n",
    "import timeit\n",
    "from tqdm.auto import tqdm\n",
    "\n",
    "def check_correctness(eigvals_func, A, rtol=1e-2, atol=1e-3):\n",
    "    assert np.allclose(sorted(np.linalg.eigvals(A)), sorted(eigvals_func(A)), rtol=rtol, atol=atol)\n",
    "\n",
    "def make_experiment(eigvals_func, N=50, random_seed=0, correctness_tests=100, rtol=1e-2, atol=1e-3, estimated_time=10, retries=7):\n",
    "    np.random.seed(random_seed)\n",
    "    for _ in tqdm(range(correctness_tests), desc=\"Checking correctness\"):\n",
    "        A = np.random.randn(N, N)\n",
    "        A = A.dot(A.T)\n",
    "        check_correctness(eigvals_func, A, rtol=rtol, atol=atol)\n",
    "    \n",
    "    variables = {'eigvals_func': eigvals_func, 'A': A}\n",
    "    single_execution = timeit.timeit(stmt=\"eigvals_func(A)\", globals=variables, number=1)\n",
    "    number = max(int(np.floor(estimated_time / single_execution / retries)), 1)\n",
    "    times = [\n",
    "        timeit.timeit(stmt=\"eigvals_func(A)\", globals=variables, number=number) / number for _ in range(retries)\n",
    "    ]\n",
    "    return times\n",
    "\n",
    "make_experiment(np.linalg.eigvals)"
   ]
  },
  {
   "cell_type": "code",
   "execution_count": 2,
   "id": "0eb3db69",
   "metadata": {
    "ExecuteTime": {
     "end_time": "2021-05-05T14:51:34.772108Z",
     "start_time": "2021-05-05T14:51:00.197314Z"
    }
   },
   "outputs": [
    {
     "data": {
      "application/vnd.jupyter.widget-view+json": {
       "model_id": "cb266d3f464a4cee89cf7f0b864d4ff5",
       "version_major": 2,
       "version_minor": 0
      },
      "text/plain": [
       "Checking correctness:   0%|          | 0/100 [00:00<?, ?it/s]"
      ]
     },
     "metadata": {},
     "output_type": "display_data"
    },
    {
     "data": {
      "text/plain": [
       "[0.21852473333333342,\n",
       " 0.22006126666666623,\n",
       " 0.22162841666666586,\n",
       " 0.22241868333333295,\n",
       " 0.21671138333333317,\n",
       " 0.2176305333333334,\n",
       " 0.21398433333333364]"
      ]
     },
     "execution_count": 2,
     "metadata": {},
     "output_type": "execute_result"
    }
   ],
   "source": [
    "def qr(A):\n",
    "    Q = A.copy()\n",
    "    Q[:, 0] /= np.linalg.norm(Q[:, 0])\n",
    "    for i in range(1, A.shape[0]):\n",
    "        Q[:, i] -= Q[:, :i].dot(Q[:, :i].T).dot(Q[:, i])\n",
    "        Q[:, i] /= np.linalg.norm(Q[:, i])\n",
    "    R = Q.T.dot(A)\n",
    "    return Q, R\n",
    "\n",
    "def eigenvalues(A, rtol=1e-6, atol=1e-8):\n",
    "    squared_A = np.square(A)\n",
    "    while squared_A.sum() - np.diag(squared_A).sum() >= rtol * squared_A.sum() + atol:\n",
    "        Q, R = qr(A)\n",
    "        A = R.dot(Q)\n",
    "        squared_A = np.square(A)\n",
    "    return np.diag(A)\n",
    "\n",
    "make_experiment(eigenvalues)"
   ]
  },
  {
   "cell_type": "code",
   "execution_count": 3,
   "id": "1c391cf0",
   "metadata": {
    "ExecuteTime": {
     "end_time": "2021-05-05T14:52:08.748610Z",
     "start_time": "2021-05-05T14:51:34.774111Z"
    }
   },
   "outputs": [
    {
     "data": {
      "application/vnd.jupyter.widget-view+json": {
       "model_id": "98a3de91c4cb4177ab8169722dccf885",
       "version_major": 2,
       "version_minor": 0
      },
      "text/plain": [
       "Checking correctness:   0%|          | 0/100 [00:00<?, ?it/s]"
      ]
     },
     "metadata": {},
     "output_type": "display_data"
    },
    {
     "data": {
      "text/plain": [
       "[0.21737011666666461,\n",
       " 0.21469396666666776,\n",
       " 0.21290133333333236,\n",
       " 0.21573575000000034,\n",
       " 0.21377313333333348,\n",
       " 0.21377425000000017,\n",
       " 0.20421029999999973]"
      ]
     },
     "execution_count": 3,
     "metadata": {},
     "output_type": "execute_result"
    }
   ],
   "source": [
    "def make_iteration(A):\n",
    "    Q = A.copy()\n",
    "    Q[:, 0] /= np.linalg.norm(Q[:, 0])\n",
    "    for i in range(1, A.shape[0]):\n",
    "        Q[:, i] -= Q[:, :i].dot(Q[:, :i].T).dot(Q[:, i])\n",
    "        Q[:, i] /= np.linalg.norm(Q[:, i])\n",
    "    return Q.T.dot(A).dot(Q)\n",
    "\n",
    "def eigenvalues(A, rtol=1e-6, atol=1e-8):\n",
    "    squared_A = np.square(A)\n",
    "    while squared_A.sum() - np.diag(squared_A).sum() >= rtol * squared_A.sum() + atol:\n",
    "        A = make_iteration(A)\n",
    "        squared_A = np.square(A)\n",
    "    return np.diag(A)\n",
    "\n",
    "make_experiment(eigenvalues)"
   ]
  },
  {
   "cell_type": "code",
   "execution_count": 4,
   "id": "3f718953",
   "metadata": {
    "ExecuteTime": {
     "end_time": "2021-05-05T14:52:38.749673Z",
     "start_time": "2021-05-05T14:52:08.750611Z"
    }
   },
   "outputs": [
    {
     "data": {
      "application/vnd.jupyter.widget-view+json": {
       "model_id": "e103380ab9b84e95a3049f07414055ad",
       "version_major": 2,
       "version_minor": 0
      },
      "text/plain": [
       "Checking correctness:   0%|          | 0/100 [00:00<?, ?it/s]"
      ]
     },
     "metadata": {},
     "output_type": "display_data"
    },
    {
     "data": {
      "text/plain": [
       "[0.17870024285714287,\n",
       " 0.1765434571428557,\n",
       " 0.17609327142857215,\n",
       " 0.17632547142857138,\n",
       " 0.17524777142857115,\n",
       " 0.1761459000000006,\n",
       " 0.1728164142857135]"
      ]
     },
     "execution_count": 4,
     "metadata": {},
     "output_type": "execute_result"
    }
   ],
   "source": [
    "def make_iteration(A):\n",
    "    Q = A.T.copy()\n",
    "    saved_Q = np.zeros_like(A)\n",
    "    for i in range(A.shape[0]):\n",
    "        Q[i] -= saved_Q.dot(Q[i])\n",
    "        Q[i] /= np.linalg.norm(Q[i])\n",
    "        saved_Q += np.outer(Q[i], Q[i])\n",
    "    return np.linalg.multi_dot([Q, A, Q.T])\n",
    "\n",
    "def eigenvalues(A, rtol=1e-6, atol=1e-8):\n",
    "    squared_A = np.square(A)\n",
    "    while squared_A.sum() - np.diag(squared_A).sum() >= rtol * squared_A.sum() + atol:\n",
    "        A = make_iteration(A)\n",
    "        squared_A = np.square(A)\n",
    "    return np.diag(A)\n",
    "\n",
    "make_experiment(eigenvalues)"
   ]
  },
  {
   "cell_type": "code",
   "execution_count": 5,
   "id": "fdf3f404",
   "metadata": {
    "ExecuteTime": {
     "end_time": "2021-05-05T14:53:00.802808Z",
     "start_time": "2021-05-05T14:52:38.750674Z"
    }
   },
   "outputs": [
    {
     "data": {
      "application/vnd.jupyter.widget-view+json": {
       "model_id": "a9a464eb17ec4dc4869d503233039cae",
       "version_major": 2,
       "version_minor": 0
      },
      "text/plain": [
       "Checking correctness:   0%|          | 0/100 [00:00<?, ?it/s]"
      ]
     },
     "metadata": {},
     "output_type": "display_data"
    },
    {
     "data": {
      "text/plain": [
       "[0.05617848399999957,\n",
       " 0.0566878760000003,\n",
       " 0.05657852000000048,\n",
       " 0.05682432399999982,\n",
       " 0.056436883999999736,\n",
       " 0.056811247999999065,\n",
       " 0.05675859599999967]"
      ]
     },
     "execution_count": 5,
     "metadata": {},
     "output_type": "execute_result"
    }
   ],
   "source": [
    "from numba import jit\n",
    "\n",
    "@jit(nopython=True)\n",
    "def make_iteration(A):\n",
    "    Q = A.T.copy()\n",
    "    saved_Q = np.zeros_like(A)\n",
    "    for i in range(A.shape[0]):\n",
    "        Q[i] -= saved_Q.dot(Q[i])\n",
    "        Q[i] /= np.linalg.norm(Q[i])\n",
    "        saved_Q += np.outer(Q[i], Q[i])\n",
    "    return Q.dot(A).dot(Q.T)\n",
    "\n",
    "@jit(nopython=True)\n",
    "def eigenvalues(A, rtol=1e-6, atol=1e-8):\n",
    "    squared_A = np.square(A)\n",
    "    while squared_A.sum() - np.diag(squared_A).sum() >= rtol * squared_A.sum() + atol:\n",
    "        A = make_iteration(A)\n",
    "        squared_A = np.square(A)\n",
    "    return np.diag(A)\n",
    "\n",
    "make_experiment(eigenvalues)"
   ]
  },
  {
   "cell_type": "code",
   "execution_count": 6,
   "id": "1a1fc80c",
   "metadata": {
    "ExecuteTime": {
     "end_time": "2021-05-05T14:53:19.989105Z",
     "start_time": "2021-05-05T14:53:00.803812Z"
    }
   },
   "outputs": [
    {
     "data": {
      "application/vnd.jupyter.widget-view+json": {
       "model_id": "a90ac41c37344bc19121eeba32460b41",
       "version_major": 2,
       "version_minor": 0
      },
      "text/plain": [
       "Checking correctness:   0%|          | 0/100 [00:00<?, ?it/s]"
      ]
     },
     "metadata": {},
     "output_type": "display_data"
    },
    {
     "data": {
      "text/plain": [
       "[0.05793499565217407,\n",
       " 0.06271596956521633,\n",
       " 0.05809121304347944,\n",
       " 0.066521734782609,\n",
       " 0.06358311304347808,\n",
       " 0.05809486956521774,\n",
       " 0.056654943478261915]"
      ]
     },
     "execution_count": 6,
     "metadata": {},
     "output_type": "execute_result"
    }
   ],
   "source": [
    "from numba import jit\n",
    "\n",
    "@jit(nopython=True, nogil=True, fastmath=True, cache=True)\n",
    "def make_iteration(A):\n",
    "    Q = A.T.copy()\n",
    "    saved_Q = np.zeros_like(A)\n",
    "    for i in range(A.shape[0]):\n",
    "        Q[i] -= saved_Q.dot(Q[i])\n",
    "        Q[i] /= np.linalg.norm(Q[i])\n",
    "        saved_Q += np.outer(Q[i], Q[i])\n",
    "    return Q.dot(A).dot(Q.T)\n",
    "\n",
    "@jit(nopython=True, nogil=True, fastmath=True, cache=True)\n",
    "def eigenvalues(A, rtol=1e-6, atol=1e-8):\n",
    "    squared_A = np.square(A)\n",
    "    while squared_A.sum() - np.diag(squared_A).sum() >= rtol * squared_A.sum() + atol:\n",
    "        A = make_iteration(A)\n",
    "        squared_A = np.square(A)\n",
    "    return np.diag(A)\n",
    "\n",
    "make_experiment(eigenvalues)"
   ]
  },
  {
   "cell_type": "code",
   "execution_count": 7,
   "id": "ac0c9ff4",
   "metadata": {
    "ExecuteTime": {
     "end_time": "2021-05-05T14:53:39.445769Z",
     "start_time": "2021-05-05T14:53:19.991107Z"
    }
   },
   "outputs": [
    {
     "data": {
      "application/vnd.jupyter.widget-view+json": {
       "model_id": "972a178f117b47e68a09666cffe2dba0",
       "version_major": 2,
       "version_minor": 0
      },
      "text/plain": [
       "Checking correctness:   0%|          | 0/100 [00:00<?, ?it/s]"
      ]
     },
     "metadata": {},
     "output_type": "display_data"
    },
    {
     "data": {
      "text/plain": [
       "[0.058021595833333585,\n",
       " 0.05779220833333435,\n",
       " 0.05694217916666607,\n",
       " 0.057847241666666584,\n",
       " 0.056839724999999675,\n",
       " 0.05663400000000015,\n",
       " 0.05702203333333363]"
      ]
     },
     "execution_count": 7,
     "metadata": {},
     "output_type": "execute_result"
    }
   ],
   "source": [
    "from numba import guvectorize, float64\n",
    "\n",
    "@guvectorize([\"void(float64[:, ::1], float64, float64, float64[::1])\"], \"(n,n), (), () -> (n)\", nopython=True, target='cpu')\n",
    "def eigenvalues(A, rtol=1e-6, atol=1e-8, out=None):\n",
    "    squared_A = A * A\n",
    "    while squared_A.sum() - np.diag(squared_A).sum() >= rtol * squared_A.sum() + atol:\n",
    "        Q = A.T.copy()\n",
    "        Q[0] /= np.linalg.norm(Q[0])\n",
    "        saved_Q = np.zeros_like(A)\n",
    "        for i in range(A.shape[0]):\n",
    "            Q[i] -= saved_Q.dot(Q[i])\n",
    "            Q[i] /= np.linalg.norm(Q[i])\n",
    "            saved_Q += np.outer(Q[i], Q[i])\n",
    "        A = Q.dot(A).dot(Q.T)\n",
    "        \n",
    "        squared_A = A * A\n",
    "    out[:] = np.diag(A)\n",
    "\n",
    "def eigenvalues_wrapper(A, rtol=1e-6, atol=1e-8):\n",
    "    result = np.empty(A.shape[0], dtype=float)\n",
    "    eigenvalues(A, rtol, atol, result)\n",
    "    return result\n",
    "\n",
    "make_experiment(eigenvalues_wrapper)"
   ]
  }
 ],
 "metadata": {
  "kernelspec": {
   "display_name": "Python 3",
   "language": "python",
   "name": "python3"
  },
  "language_info": {
   "codemirror_mode": {
    "name": "ipython",
    "version": 3
   },
   "file_extension": ".py",
   "mimetype": "text/x-python",
   "name": "python",
   "nbconvert_exporter": "python",
   "pygments_lexer": "ipython3",
   "version": "3.8.10"
  }
 },
 "nbformat": 4,
 "nbformat_minor": 5
}
